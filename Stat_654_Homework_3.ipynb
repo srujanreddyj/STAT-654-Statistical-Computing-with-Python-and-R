{
 "cells": [
  {
   "cell_type": "markdown",
   "metadata": {},
   "source": [
    "\n",
    "# Srujan Jabbireddy - Homework 3\n",
    "Due 11:55pm on Wed 4th March\n",
    "\n",
    "We study Table 13.2 on p240 of Lange and Chapter 13 Question 11 (p240) and Chapter 14 Example 14.10.1 (p264).\n",
    "\n",
    "The table contains counts of the number of days that a given number of deaths occurred. The data are from The London Times in the years 1910-1912."
   ]
  },
  {
   "cell_type": "code",
   "execution_count": 1,
   "metadata": {},
   "outputs": [],
   "source": [
    "import numpy as np\n",
    "import scipy.special\n",
    "freq = np.array([162,267,271,185,111,61,27,8,3,1])"
   ]
  },
  {
   "cell_type": "code",
   "execution_count": 2,
   "metadata": {},
   "outputs": [
    {
     "data": {
      "image/png": "[encoded data removed]",
      "text/plain": [
       "<Figure size 432x288 with 1 Axes>"
      ]
     },
     "metadata": {},
     "output_type": "display_data"
    }
   ],
   "source": [
    "import matplotlib.pyplot as plt\n",
    "plt.style.use('seaborn-whitegrid')\n",
    "\n",
    "## proportion of different number of deaths\n",
    "plt.plot(np.arange(freq.size), freq/np.sum(freq), 'o', color='black')\n",
    "plt.xlabel(\"Number of Deaths\")\n",
    "plt.ylabel(\"Proportion\")\n",
    "plt.show()"
   ]
  },
  {
   "cell_type": "markdown",
   "metadata": {},
   "source": [
    "# Problem 1\n",
    "Confirm Lange's claim in question 11 that \"A Poisson distribution gives a poor fit to these data . . .\" by computing the MLE of the Poisson parameter  𝜆  (this should be done by hand using calculus) and plotting the resulting probability mass function over the observed data. They should be a bit discrepant (thus justifying the claim)."
   ]
  },
  {
   "cell_type": "markdown",
   "metadata": {},
   "source": [
    "The Poisson probability mass function is$$ f(x|\\lambda) = \\frac{e^{-\\lambda}\\lambda^x}{x!}$$\n",
    "\n",
    "The MLE maximizes the log likelihood. \n",
    "\n",
    "The log likelihood for the sample is $$ \n",
    "\\begin{align*}\n",
    "\\log f(\\vec{x}) &= \\log \\prod_{i=1}^n f(x_i|\\lambda)\\ \\\\\n",
    "                & = \\sum_{i=1}^n \\log f(x_i|\\lambda)\\ \\\\\n",
    "                & = \\sum_{i=1}^n (-\\lambda + x_i\\log \\lambda - \\log x!)\\ \\\\\n",
    "                & = -n\\lambda + \\sum_{i=1}^n(x_i)  \\log \\lambda - \\sum_{i=1}^n \\log x! \n",
    "\\end{align*} $$\n",
    "\n",
    "Differentienting, setting equal to $0$, and solving for $\\lambda$, we obtain$$ \\widehat{\\lambda} = \\bar{X} = \\frac{1}{n}\\sum_{i=1}^n x_i $$In other words, the MLE is the sample mean.\n",
    "\n",
    "We now compute the sample mean for this data."
   ]
  },
  {
   "cell_type": "code",
   "execution_count": 3,
   "metadata": {},
   "outputs": [
    {
     "data": {
      "text/plain": [
       "array([  0, 267, 542, 555, 444, 305, 162,  56,  24,   9])"
      ]
     },
     "execution_count": 3,
     "metadata": {},
     "output_type": "execute_result"
    }
   ],
   "source": [
    "np.arange(freq.size)*freq"
   ]
  },
  {
   "cell_type": "code",
   "execution_count": 4,
   "metadata": {},
   "outputs": [
    {
     "data": {
      "text/plain": [
       "2.156934306569343"
      ]
     },
     "execution_count": 4,
     "metadata": {},
     "output_type": "execute_result"
    }
   ],
   "source": [
    "# mean number of deaths = total deaths / number of days\n",
    "death_mle = np.sum(np.arange(freq.size)*freq)/(np.sum(freq))\n",
    "death_mle"
   ]
  },
  {
   "cell_type": "code",
   "execution_count": 6,
   "metadata": {},
   "outputs": [
    {
     "data": {
      "image/png": "[encoded data removed]",
      "text/plain": [
       "<Figure size 432x288 with 1 Axes>"
      ]
     },
     "metadata": {},
     "output_type": "display_data"
    }
   ],
   "source": [
    "from scipy.stats import poisson\n",
    "plt.style.use('seaborn-whitegrid')\n",
    "\n",
    "\n",
    "## proportion of different number of deaths\n",
    "plt.plot(np.arange(freq.size), freq/np.sum(freq), 'o', \n",
    "         color='orange',label = 'Original Data')\n",
    "plt.plot(np.arange(freq.size), \n",
    "         poisson.pmf(np.arange(freq.size),death_mle),'o',\n",
    "         color='green',label='Poisson Distribution')\n",
    "\n",
    "plt.legend()\n",
    "plt.xlabel(\"Number of Deaths\")\n",
    "plt.ylabel(\"Proportion\");"
   ]
  },
  {
   "cell_type": "markdown",
   "metadata": {},
   "source": [
    "# Problem 2\n",
    "Fit the  𝛼 ,  𝜇1  and  𝜇2  parameters for the mixture of two Poissons model proposed in Question 11 using a gradient ascent algorithm. You must write your own fitting code (you cannot use scipy optimize or R optim). Discuss how you select starting parameters and monitor convergence. Include a plot to illustrate the convergence for different starting values of the parameters."
   ]
  },
  {
   "cell_type": "markdown",
   "metadata": {},
   "source": [
    "In problem 1 we used standard notation for the data i.e. $x_1$ was the number of deaths on day 1. <br>\n",
    "Now we let $n_i =$ number of days with $i$ deaths. \n",
    "So$$n_i = \\sum_j \\mathbb{1}_{X_j=i}$$\n",
    "\n",
    "The likelihood is$$f(\\vec{n}|\\alpha,\\mu_1,\\mu_2) = \\prod_{i=0}^9 \\left(\\underbrace{\\alpha e^{-\\mu_1} \\frac{\\mu_1^i}{i!} + (1-\\alpha)e^{-\\mu_2}\\frac{\\mu_2^i}{i!}}_{\\equiv g_i}\\right)^{n_i}$$\n",
    "\n",
    "\n",
    "\n",
    "So the log likelihood is$$ \\log \\, f = \\sum_{i=0}^9 n_i \\log(g_i) $$\n",
    "\n",
    "The gradient is$$ \\frac{\\partial log f}{\\partial \\alpha} = \\sum_{i=0}^9 \\frac{n_i}{g_i} (e^{-\\mu_1} \\frac{\\mu_1^i}{i!} - e^{-\\mu_2}\\frac{\\mu_2^i} {i!})$$and $$ \\frac{\\partial log f}{\\partial \\mu_j} = \\sum_{i=0}^9 \\frac{n_i}{g_i} \\frac{\\partial g_i}{\\partial \\mu_j}$$ for $j=1,2$ and where$$ \\frac{\\partial log f}{\\partial \\mu_1} = -\\frac{n_0}{g_0} (\\alpha e^{-\\mu_1}) + \\sum_{i=1}^9 \\frac{n_i}{g_i} \\frac{\\alpha e^{-\\mu_1} (i- \\mu_1) \\mu_1^{i-1}}{i!}$$$$ \\frac{\\partial log f}{\\partial \\mu_2} = -\\frac{n_0}{g_0} ((1-\\alpha) e^{-\\mu_2}) + \\sum_{i=1}^9 \\frac{n_i}{g_i} \\frac{(1-\\alpha) e^{-\\mu_2} (i- \\mu_2) \\mu_2^{i-1}}{i!}$$\n",
    "\n",
    "\n",
    "\n",
    "<br>Note the indicator functions. These are important for the second terms in the $\\partial g_i / \\partial \\mu_j$ which are $0$ for $i=0$ (because we are differentiating a constant)."
   ]
  },
  {
   "cell_type": "code",
   "execution_count": 7,
   "metadata": {},
   "outputs": [],
   "source": [
    "#defining g function\n",
    "def g(alpha,mu1,mu2,i):\n",
    "    i_fact = scipy.special.factorial(i)\n",
    "    return (alpha*np.exp(-mu1)*np.power(mu1,i)/i_fact) + ((1-alpha)*np.exp(-mu2)*np.power(mu2,i)/i_fact)"
   ]
  },
  {
   "cell_type": "markdown",
   "metadata": {},
   "source": [
    "Definig LOG-LIKELIHOOD function"
   ]
  },
  {
   "cell_type": "code",
   "execution_count": 8,
   "metadata": {},
   "outputs": [],
   "source": [
    "def log_likelihood(params,n):\n",
    "    like=g(params[0],params[1],params[2],n.size)\n",
    "    if np.min(like) < 0:\n",
    "        return -np.inf \n",
    "    else:\n",
    "        z =0\n",
    "        for i in range(0,10):\n",
    "            p = n[i]*np.log(g(params[0],params[1],params[2],i))\n",
    "            z = z+p\n",
    "        return z "
   ]
  },
  {
   "cell_type": "markdown",
   "metadata": {},
   "source": [
    "Calculating Loglikehoood - Gradient Ascent derivates\n",
    "\n",
    "Alpha-gradient log"
   ]
  },
  {
   "cell_type": "code",
   "execution_count": 9,
   "metadata": {},
   "outputs": [],
   "source": [
    "def lograd_alpha(params,n):\n",
    "    alpha = params[0]\n",
    "    mu1 = params[1]\n",
    "    mu2 = params[2]\n",
    "    z = 0\n",
    "    for i in range(0,10):\n",
    "        i_fact = scipy.special.factorial(i)\n",
    "        p = (n[i]/(g(alpha,mu1,mu2,i)*i_fact))*((np.exp(-mu1)*np.power(mu1,i)) - (np.exp(-mu2)*np.power(mu2,i)))\n",
    "        z = z+p\n",
    "    return z\n"
   ]
  },
  {
   "cell_type": "markdown",
   "metadata": {},
   "source": [
    "Defining MU gradients"
   ]
  },
  {
   "cell_type": "code",
   "execution_count": 10,
   "metadata": {},
   "outputs": [],
   "source": [
    "\n",
    "#mu1 gradient\n",
    "def lograd_mu1(params,n):\n",
    "    alpha = params[0]\n",
    "    mu1 = params[1]\n",
    "    mu2 = params[2]\n",
    "    \n",
    "    z = 0\n",
    "    const = -n[0]*alpha*np.exp(-mu1)/(g(alpha,mu1,mu2,0))\n",
    "    for i in range(1,10):\n",
    "        i_fact = scipy.special.factorial(i)\n",
    "        p = (n[i]/g(alpha,mu1,mu2,i))*(alpha/i_fact)*(np.exp(-mu1)*np.power(mu1,i-1)*(i-mu1))\n",
    "        z=z+p\n",
    "    return (z+const)\n"
   ]
  },
  {
   "cell_type": "code",
   "execution_count": 11,
   "metadata": {},
   "outputs": [],
   "source": [
    "#mu2 gradient\n",
    "def lograd_mu2(params,n):\n",
    "    alpha = params[0]\n",
    "    mu1 = params[1]\n",
    "    mu2 = params[2]\n",
    "    z = 0\n",
    "    const = -n[0]*(1-alpha)*np.exp(-mu2)/(g(alpha,mu1,mu2,0))\n",
    "    for i in range(1,10):\n",
    "        i_fact = scipy.special.factorial(i)\n",
    "        p = (n[i]/g(alpha,mu1,mu2,i))*((1-alpha)/i_fact)*(np.exp(-mu2)*np.power(mu2,i-1)*(i-mu2))\n",
    "        z=z+p\n",
    "    return (z+const)  \n"
   ]
  },
  {
   "cell_type": "markdown",
   "metadata": {},
   "source": [
    "Functioning the gradient derivates"
   ]
  },
  {
   "cell_type": "code",
   "execution_count": 21,
   "metadata": {},
   "outputs": [],
   "source": [
    "def gradient_ascent(param_initial):\n",
    "    #running for 1000 iterations for the algorithm to converge\n",
    "    #(as we dont know where will it converge)\n",
    "    Niter = 1000\n",
    "    #creating matrix of no. of iterations size\n",
    "    param = np.zeros((Niter+1)*3).reshape(Niter+1,3)\n",
    "    param[0,:] = param_initial\n",
    "\n",
    "    for ii in np.arange(Niter):\n",
    "        lgrad_alpha = lograd_alpha(param[ii,:],freq)\n",
    "        lgrad_mu1 = lograd_mu1(param[ii,:],freq)\n",
    "        lgrad_mu2 = lograd_mu2(param[ii,:],freq)\n",
    "        lgrad = np.array((lgrad_alpha, lgrad_mu1, lgrad_mu2))\n",
    "        half = True \n",
    "         ## step half until new point increases likelihood    \n",
    "        while half:\n",
    "            param_temp = param[ii,:] + lgrad\n",
    "            newlik = log_likelihood(param_temp,freq)\n",
    "            ## for temp far from maximum, logit_loglik returns\n",
    "            ## Nan values. we replace these with -Inf log likelihoods\n",
    "            if np.isnan(newlik): \n",
    "                newlik = -np.inf\n",
    "            if (newlik < log_likelihood(param[ii,:],freq)):\n",
    "                lgrad = lgrad / 2\n",
    "            else:\n",
    "                half = False\n",
    "        param[ii+1,:] = param_temp\n",
    "    return param\n"
   ]
  },
  {
   "cell_type": "markdown",
   "metadata": {},
   "source": [
    "We choose starting values of parameter as follows(taken from textbook):\n",
    "Since in 1st question when we use single poisson distribution we get mean value of 2.156. \n",
    "Therefore, for the mixture of poisson distribution one value should be below and one value should be above this value. \n",
    "Hence here we use mu1=1 and mu2=2.5 \n",
    "For alpha, we choose initial value of 0.3 since we believe that the contribution of parameter with high mean will be more as\n",
    "observed from the graph in the 1st question."
   ]
  },
  {
   "cell_type": "code",
   "execution_count": 23,
   "metadata": {},
   "outputs": [
    {
     "name": "stderr",
     "output_type": "stream",
     "text": [
      "C:\\Users\\jsruj\\Anaconda3\\envs\\Stat 654\\lib\\site-packages\\ipykernel_launcher.py:8: RuntimeWarning: invalid value encountered in log\n",
      "  \n"
     ]
    },
    {
     "data": {
      "text/plain": [
       "array([0.35988489, 1.25609417, 2.66340372])"
      ]
     },
     "execution_count": 23,
     "metadata": {},
     "output_type": "execute_result"
    }
   ],
   "source": [
    "param_initial_1 = np.array((0.3,1.0,2.5))\n",
    "param1 = gradient_ascent(param_initial_1)\n",
    "param1[1000,:]"
   ]
  },
  {
   "cell_type": "markdown",
   "metadata": {},
   "source": [
    "Taking other alpha, mu1,mu2 values and checking the converges "
   ]
  },
  {
   "cell_type": "code",
   "execution_count": 24,
   "metadata": {},
   "outputs": [
    {
     "name": "stderr",
     "output_type": "stream",
     "text": [
      "C:\\Users\\jsruj\\Anaconda3\\envs\\Stat 654\\lib\\site-packages\\ipykernel_launcher.py:8: RuntimeWarning: invalid value encountered in log\n",
      "  \n"
     ]
    },
    {
     "data": {
      "text/plain": [
       "array([0.35988588, 1.25609595, 2.66340494])"
      ]
     },
     "execution_count": 24,
     "metadata": {},
     "output_type": "execute_result"
    }
   ],
   "source": [
    "param_initial_2 = np.array((0.5,0.5,4.1))\n",
    "param2 = gradient_ascent(param_initial_2)\n",
    "param2[1000,:]"
   ]
  },
  {
   "cell_type": "code",
   "execution_count": 25,
   "metadata": {},
   "outputs": [
    {
     "name": "stderr",
     "output_type": "stream",
     "text": [
      "C:\\Users\\jsruj\\Anaconda3\\envs\\Stat 654\\lib\\site-packages\\ipykernel_launcher.py:8: RuntimeWarning: divide by zero encountered in log\n",
      "  \n",
      "C:\\Users\\jsruj\\Anaconda3\\envs\\Stat 654\\lib\\site-packages\\ipykernel_launcher.py:8: RuntimeWarning: invalid value encountered in log\n",
      "  \n"
     ]
    },
    {
     "data": {
      "text/plain": [
       "array([0.35988518, 1.25609471, 2.66340409])"
      ]
     },
     "execution_count": 25,
     "metadata": {},
     "output_type": "execute_result"
    }
   ],
   "source": [
    "param_initial_3 = np.array((0.8,0.1,1.0))\n",
    "param3 = gradient_ascent(param_initial_3)\n",
    "param3[1000,:]"
   ]
  },
  {
   "cell_type": "markdown",
   "metadata": {},
   "source": [
    "Plot Parameter Paths\n",
    "\n",
    "Plotting the $\\mu_1$, $\\mu_2$ parameter paths. We could also plot these paths for $\\alpha$."
   ]
  },
  {
   "cell_type": "code",
   "execution_count": 26,
   "metadata": {},
   "outputs": [],
   "source": [
    "import matplotlib.pyplot as plt\n",
    "plt.style.use('ggplot')\n",
    "import numpy as np"
   ]
  },
  {
   "cell_type": "code",
   "execution_count": 27,
   "metadata": {},
   "outputs": [
    {
     "data": {
      "image/png": "[encoded data removed]",
      "text/plain": [
       "<Figure size 432x288 with 1 Axes>"
      ]
     },
     "metadata": {},
     "output_type": "display_data"
    }
   ],
   "source": [
    "## sequence 1\n",
    "n1 = len(param1)-1\n",
    "plt.plot(param1[:,1],param1[:,2],color='orange',label=\"Path 1\")\n",
    "plt.plot(param1[n1,1],param1[n1,2],'x',color='orange',label=\"Final 1\")\n",
    "plt.plot(param1[0,1],param1[0,2],'o',color='orange',label=\"Initial 1\")\n",
    "## sequence 2\n",
    "n2 = len(param2)-1\n",
    "plt.plot(param2[:,1],param2[:,2],color='blue',label=\"Path 2\")\n",
    "plt.plot(param2[n2,1],param2[n2,2],'x',color='blue',label=\"Final 2\")\n",
    "plt.plot(param2[0,1],param2[0,2],'o',color='blue',label=\"Initial 2\")\n",
    "## sequence 3\n",
    "n3 = len(param3)-1\n",
    "plt.plot(param3[:,1],param3[:,2],color='red',label=\"Path 3\")\n",
    "plt.plot(param3[n3,1],param3[n3,2],'x',color='red',label=\"Final 3\")\n",
    "plt.plot(param3[0,1],param3[0,2],'o',color='red',label=\"Initial 3\")\n",
    "plt.xlabel(\"mu1\")\n",
    "plt.ylabel(\"mu2\")\n",
    "leg = plt.legend(loc='upper left')\n",
    "plt.show()"
   ]
  },
  {
   "cell_type": "markdown",
   "metadata": {},
   "source": [
    "We can see the starting points and their gradient helping to converge to one point"
   ]
  },
  {
   "cell_type": "markdown",
   "metadata": {},
   "source": [
    "# Problem 3\n",
    "Confirm your answer to Question 2 using the built in Python or R optimizers. Also provide a confidence interval for each of the three parameters."
   ]
  },
  {
   "cell_type": "code",
   "execution_count": 28,
   "metadata": {},
   "outputs": [],
   "source": [
    "#First we redefine the log likelihood function that takes one parameter and the function calculates negative\n",
    "#log likelihood so that we minimize the function using optim\n",
    "\n",
    "def loglikehood_optim(param):\n",
    "    alpha = param[0]\n",
    "    mu1 = param[1]\n",
    "    mu2 = param[2]\n",
    "    z = 0\n",
    "    for i in range(10):\n",
    "        i_fact = scipy.special.factorial(i)\n",
    "        p = freq[i]*(np.log(alpha*np.exp(-mu1)*np.power(mu1,i)/i_fact + (1-alpha)*np.exp(-mu2)*np.power(mu2,i)/i_fact))\n",
    "        z=z+p\n",
    "    return -z"
   ]
  },
  {
   "cell_type": "code",
   "execution_count": 29,
   "metadata": {},
   "outputs": [],
   "source": [
    "def gradient_ascent_fn(param):\n",
    "    lgrad_alpha= -lograd_alpha(param,freq)\n",
    "    lgrad_mu1 = -lograd_mu1(param,freq)\n",
    "    lgrad_mu2 = -lograd_mu2(param,freq)\n",
    "    return np.array((lgrad_alpha, lgrad_mu1, lgrad_mu2))"
   ]
  },
  {
   "cell_type": "code",
   "execution_count": 30,
   "metadata": {},
   "outputs": [
    {
     "name": "stdout",
     "output_type": "stream",
     "text": [
      "Optimization terminated successfully.\n",
      "         Current function value: 1989.945860\n",
      "         Iterations: 67\n",
      "         Function evaluations: 121\n"
     ]
    },
    {
     "data": {
      "text/plain": [
       "array([0.3598576 , 1.25603686, 2.66337702])"
      ]
     },
     "execution_count": 30,
     "metadata": {},
     "output_type": "execute_result"
    }
   ],
   "source": [
    "#Now we input the initial value of parameters and the function that needs to be minimized in the 'optim' function\n",
    "param_initial = np.array((0.3,1.0,2.5))\n",
    "param = param_initial\n",
    "\n",
    "result = scipy.optimize.fmin(loglikehood_optim, param)\n",
    "result"
   ]
  },
  {
   "cell_type": "code",
   "execution_count": 31,
   "metadata": {},
   "outputs": [
    {
     "name": "stderr",
     "output_type": "stream",
     "text": [
      "C:\\Users\\jsruj\\Anaconda3\\envs\\Stat 654\\lib\\site-packages\\ipykernel_launcher.py:11: RuntimeWarning: invalid value encountered in log\n",
      "  # This is added back by InteractiveShellApp.init_path()\n"
     ]
    },
    {
     "data": {
      "text/plain": [
       "      fun: 1989.9458598829642\n",
       " hess_inv: array([[0.03778023, 0.06489559, 0.04602783],\n",
       "       [0.06489559, 0.12237734, 0.0755518 ],\n",
       "       [0.04602783, 0.0755518 , 0.06233602]])\n",
       "      jac: array([-9.78002144e-07,  4.75599606e-07,  1.69638014e-07])\n",
       "  message: 'Optimization terminated successfully.'\n",
       "     nfev: 17\n",
       "      nit: 13\n",
       "     njev: 17\n",
       "   status: 0\n",
       "  success: True\n",
       "        x: array([0.3598854 , 1.25609511, 2.66340436])"
      ]
     },
     "execution_count": 31,
     "metadata": {},
     "output_type": "execute_result"
    }
   ],
   "source": [
    "#Using different in-built methods for optimization\n",
    "\n",
    "result = scipy.optimize.minimize(loglikehood_optim, param, method='BFGS',jac=gradient_ascent_fn)\n",
    "result\n"
   ]
  },
  {
   "cell_type": "markdown",
   "metadata": {},
   "source": [
    "* Now to get the confidence intervals, we need to calculate the standard error. \n",
    "* Standard error is obtained by taking the square root of the diagonal elements of inverse of hessian matrix\n",
    "* The standard error is then multiplied by 1.96 to obtain the 95% confidence interval"
   ]
  },
  {
   "cell_type": "markdown",
   "metadata": {},
   "source": [
    "Calculating confidence intervals"
   ]
  },
  {
   "cell_type": "code",
   "execution_count": 32,
   "metadata": {},
   "outputs": [
    {
     "data": {
      "text/html": [
       "<div>\n",
       "<style scoped>\n",
       "    .dataframe tbody tr th:only-of-type {\n",
       "        vertical-align: middle;\n",
       "    }\n",
       "\n",
       "    .dataframe tbody tr th {\n",
       "        vertical-align: top;\n",
       "    }\n",
       "\n",
       "    .dataframe thead th {\n",
       "        text-align: right;\n",
       "    }\n",
       "</style>\n",
       "<table border=\"1\" class=\"dataframe\">\n",
       "  <thead>\n",
       "    <tr style=\"text-align: right;\">\n",
       "      <th></th>\n",
       "      <th>minimized</th>\n",
       "      <th>upper</th>\n",
       "      <th>lower</th>\n",
       "    </tr>\n",
       "  </thead>\n",
       "  <tbody>\n",
       "    <tr>\n",
       "      <th>alpha</th>\n",
       "      <td>0.359885</td>\n",
       "      <td>0.740853</td>\n",
       "      <td>-0.021082</td>\n",
       "    </tr>\n",
       "    <tr>\n",
       "      <th>mu1</th>\n",
       "      <td>1.256095</td>\n",
       "      <td>1.941752</td>\n",
       "      <td>0.570439</td>\n",
       "    </tr>\n",
       "    <tr>\n",
       "      <th>mu2</th>\n",
       "      <td>2.663404</td>\n",
       "      <td>3.152761</td>\n",
       "      <td>2.174048</td>\n",
       "    </tr>\n",
       "  </tbody>\n",
       "</table>\n",
       "</div>"
      ],
      "text/plain": [
       "       minimized     upper     lower\n",
       "alpha   0.359885  0.740853 -0.021082\n",
       "mu1     1.256095  1.941752  0.570439\n",
       "mu2     2.663404  3.152761  2.174048"
      ]
     },
     "execution_count": 32,
     "metadata": {},
     "output_type": "execute_result"
    }
   ],
   "source": [
    "sigma= np.sqrt(np.diagonal(result.hess_inv))\n",
    "upper = result.x+1.96*sigma\n",
    "lower = result.x-1.96*sigma\n",
    "import pandas as pd\n",
    "confidence_interval = pd.DataFrame({'minimized': result.x,\n",
    "                    'upper': upper,\n",
    "                    'lower': lower})\n",
    "confidence_interval.index=['alpha','mu1','mu2']\n",
    "confidence_interval"
   ]
  },
  {
   "cell_type": "code",
   "execution_count": 55,
   "metadata": {},
   "outputs": [
    {
     "data": {
      "text/html": [
       "<div>\n",
       "<style scoped>\n",
       "    .dataframe tbody tr th:only-of-type {\n",
       "        vertical-align: middle;\n",
       "    }\n",
       "\n",
       "    .dataframe tbody tr th {\n",
       "        vertical-align: top;\n",
       "    }\n",
       "\n",
       "    .dataframe thead th {\n",
       "        text-align: right;\n",
       "    }\n",
       "</style>\n",
       "<table border=\"1\" class=\"dataframe\">\n",
       "  <thead>\n",
       "    <tr style=\"text-align: right;\">\n",
       "      <th></th>\n",
       "      <th>inbuilt_minimized</th>\n",
       "      <th>manual_minimized</th>\n",
       "      <th>upper</th>\n",
       "      <th>lower</th>\n",
       "    </tr>\n",
       "  </thead>\n",
       "  <tbody>\n",
       "    <tr>\n",
       "      <th>$\u0007lpha$</th>\n",
       "      <td>0.359885</td>\n",
       "      <td>0.359885</td>\n",
       "      <td>0.740853</td>\n",
       "      <td>-0.021082</td>\n",
       "    </tr>\n",
       "    <tr>\n",
       "      <th>$\\mu_1$</th>\n",
       "      <td>1.256095</td>\n",
       "      <td>1.256094</td>\n",
       "      <td>1.941752</td>\n",
       "      <td>0.570439</td>\n",
       "    </tr>\n",
       "    <tr>\n",
       "      <th>$\\mu_2$</th>\n",
       "      <td>2.663404</td>\n",
       "      <td>2.663404</td>\n",
       "      <td>3.152761</td>\n",
       "      <td>2.174048</td>\n",
       "    </tr>\n",
       "  </tbody>\n",
       "</table>\n",
       "</div>"
      ],
      "text/plain": [
       "         inbuilt_minimized  manual_minimized     upper     lower\n",
       "$\u0007lpha$           0.359885          0.359885  0.740853 -0.021082\n",
       "$\\mu_1$           1.256095          1.256094  1.941752  0.570439\n",
       "$\\mu_2$           2.663404          2.663404  3.152761  2.174048"
      ]
     },
     "execution_count": 55,
     "metadata": {},
     "output_type": "execute_result"
    }
   ],
   "source": [
    "confidence_interval = pd.DataFrame({'inbuilt_minimized': result.x, 'manual_minimized' : param1[1000,:],\n",
    "                    'upper': upper,\n",
    "                    'lower': lower})\n",
    "confidence_interval.index=['$\\alpha$', '$\\mu_1$' , '$\\mu_2$']\n",
    "confidence_interval"
   ]
  },
  {
   "cell_type": "markdown",
   "metadata": {},
   "source": [
    "# Problem 4\n",
    "Implement the EM algorithm approach detailed in Question 11 to fit the parameter  𝛼 ,  𝜇1  and  𝜇2 .\n",
    "\n",
    "Compare the number of steps and the computation time of the EM algorithm to the gradient ascent method you used in Problem 2.\n",
    "State which is faster and why you think this is the case.\n",
    "Lastly, name one advantage of each method."
   ]
  },
  {
   "cell_type": "code",
   "execution_count": 57,
   "metadata": {},
   "outputs": [],
   "source": [
    "# Values given in the textbook\n",
    "alpha = 0.3\n",
    "mu1 = 1\n",
    "mu2 = 2.5"
   ]
  },
  {
   "cell_type": "code",
   "execution_count": 35,
   "metadata": {},
   "outputs": [],
   "source": [
    "def Ez(alpha,mu1,mu2,k):\n",
    "    term1 = alpha*np.exp(-mu1)*np.power(mu1,k)\n",
    "    term2 = (1-alpha)*np.exp(-mu2)*np.power(mu2,k)\n",
    "    return term1/(term1+term2)"
   ]
  },
  {
   "cell_type": "code",
   "execution_count": 36,
   "metadata": {},
   "outputs": [
    {
     "data": {
      "text/plain": [
       "array([6.57619125e-01, 4.34481758e-01, 2.35073895e-01, 1.09469629e-01,\n",
       "       4.68661004e-02, 1.92888357e-02, 7.80587401e-03, 3.13704202e-03,\n",
       "       1.25718311e-03, 5.03252852e-04])"
      ]
     },
     "execution_count": 36,
     "metadata": {},
     "output_type": "execute_result"
    }
   ],
   "source": [
    "# Check function\n",
    "Ez_vec = np.array(list(map(lambda y: Ez(alpha,mu1,mu2,y), np.arange(10))))\n",
    "Ez_vec"
   ]
  },
  {
   "cell_type": "code",
   "execution_count": 39,
   "metadata": {},
   "outputs": [],
   "source": [
    "# Run EM algorithm\n",
    "def em_poisson_alg(alpha,mu1,mu2,X,para,liketol):\n",
    "    old_likelihood = -np.inf\n",
    "    likelihood_diff = np.inf\n",
    "    iter_count = 0\n",
    "    para_diff = np.inf\n",
    "\n",
    "    while para_diff > para or likelihood_diff > liketol:\n",
    "        mu11 = mu1\n",
    "        mu22 = mu2\n",
    "        alpha_a = alpha\n",
    "        Ez_vec = np.array(list(map(lambda y: Ez(alpha,mu1,mu2,y), np.arange(10))))\n",
    "        alpha = sum(X*Ez_vec)/sum(X)\n",
    "        mu1 = sum(X*np.arange(10)*Ez_vec)/sum(X*Ez_vec)\n",
    "        mu2 = sum(X*np.arange(10)*(1-Ez_vec))/sum(X*(1-Ez_vec))\n",
    "        # Check convergence\n",
    "        para_diff = sum(np.absolute([alpha-alpha_a,mu1-mu11,mu2-mu22]))\n",
    "        new_likelihood = log_likelihood([alpha,mu1,mu2],X)\n",
    "        likelihood_diff = np.absolute(new_likelihood-old_likelihood)\n",
    "        old_likelihood = new_likelihood\n",
    "        iter_count = iter_count + 1\n",
    "    return [alpha,mu1,mu2,iter_count,para_diff,likelihood_diff]"
   ]
  },
  {
   "cell_type": "code",
   "execution_count": 40,
   "metadata": {},
   "outputs": [],
   "source": [
    "em_out = em_poisson_alg(alpha,mu1,mu2,freq,10e-6,10e-6)"
   ]
  },
  {
   "cell_type": "code",
   "execution_count": 41,
   "metadata": {},
   "outputs": [
    {
     "data": {
      "text/plain": [
       "[0.3593075138402641, 1.255089824982245, 2.662698781023993]"
      ]
     },
     "execution_count": 41,
     "metadata": {},
     "output_type": "execute_result"
    }
   ],
   "source": [
    "em_out[0:3]"
   ]
  },
  {
   "cell_type": "markdown",
   "metadata": {},
   "source": [
    "The $\\alpha$, $\\mu_1$ and $\\mu_2$ values are 0.3593, 1.2550 and 2.6626 respectively which are very close to the actual value"
   ]
  },
  {
   "cell_type": "code",
   "execution_count": 42,
   "metadata": {},
   "outputs": [
    {
     "data": {
      "text/plain": [
       "[0.3593075138402641,\n",
       " 1.255089824982245,\n",
       " 2.662698781023993,\n",
       " 1116,\n",
       " 9.968900464174535e-06,\n",
       " 3.8574398786295205e-08]"
      ]
     },
     "execution_count": 42,
     "metadata": {},
     "output_type": "execute_result"
    }
   ],
   "source": [
    "em_out"
   ]
  },
  {
   "cell_type": "code",
   "execution_count": 43,
   "metadata": {},
   "outputs": [],
   "source": [
    "##Calculating time"
   ]
  },
  {
   "cell_type": "code",
   "execution_count": 45,
   "metadata": {},
   "outputs": [
    {
     "name": "stdout",
     "output_type": "stream",
     "text": [
      "1.02 s ± 110 ms per loop (mean ± std. dev. of 7 runs, 1 loop each)\n"
     ]
    }
   ],
   "source": [
    "%timeit em_out = em_poisson_alg(alpha,mu1,mu2,freq,10e-6,np.inf) # No likelihood tolerance"
   ]
  },
  {
   "cell_type": "code",
   "execution_count": 46,
   "metadata": {},
   "outputs": [
    {
     "name": "stderr",
     "output_type": "stream",
     "text": [
      "C:\\Users\\jsruj\\Anaconda3\\envs\\Stat 654\\lib\\site-packages\\ipykernel_launcher.py:8: RuntimeWarning: invalid value encountered in log\n",
      "  \n"
     ]
    },
    {
     "name": "stdout",
     "output_type": "stream",
     "text": [
      "26.3 s ± 3.41 s per loop (mean ± std. dev. of 7 runs, 1 loop each)\n"
     ]
    }
   ],
   "source": [
    "param_initial_1 = np.array((0.3,1.0,2.5))\n",
    "%timeit param1 = gradient_ascent(param_initial_1)"
   ]
  },
  {
   "cell_type": "code",
   "execution_count": 48,
   "metadata": {},
   "outputs": [],
   "source": [
    "em_steps = np.zeros(100)\n",
    "for ii in np.arange(100):\n",
    "    alpha = np.random.uniform(0,1,1)[0]\n",
    "    mu1 = np.random.uniform(0,5,1)[0]\n",
    "    mu2 = np.random.uniform(0,5,1)[0]\n",
    "    em_steps[ii] = em_poisson_alg(alpha,mu1,mu2,freq,10e-6,np.inf)[3]"
   ]
  },
  {
   "cell_type": "markdown",
   "metadata": {},
   "source": [
    "The EM algorithm seems to be a bit faster here. However this could be due to the implementation because it takes nearly 3 times as many iterations to converge (though we should not forget that the gradient ascent algorithm may do one or more halvings within each step)."
   ]
  },
  {
   "cell_type": "markdown",
   "metadata": {},
   "source": [
    "Checking if the mixture model is a good fit:"
   ]
  },
  {
   "cell_type": "code",
   "execution_count": 49,
   "metadata": {},
   "outputs": [
    {
     "name": "stdout",
     "output_type": "stream",
     "text": [
      "0.9997\n"
     ]
    }
   ],
   "source": [
    "deaths = np.arange(10)\n",
    "freq = np.array([162, 267, 271, 185, 111, 61, 27, 8, 3, 1])\n",
    "i, ni = deaths, freq\n",
    "i_fac = scipy.special.factorial(i)\n",
    "alpha0, mu10, mu20 = [0.35987258442400516, 1.2560722507101618, 2.6633886707631791]\n",
    "pois_mle = (alpha0*np.exp(-mu10)*mu10**i+(1-alpha0)*np.exp(-mu20)*mu20**i)/i_fac\n",
    "print(f'{np.sum(pois_mle):.4}')"
   ]
  },
  {
   "cell_type": "code",
   "execution_count": 51,
   "metadata": {},
   "outputs": [
    {
     "data": {
      "image/png": "[encoded data removed]",
      "text/plain": [
       "<Figure size 432x288 with 1 Axes>"
      ]
     },
     "metadata": {},
     "output_type": "display_data"
    }
   ],
   "source": [
    "\n",
    "plt.plot(i, pois_mle,'x--', color='green',label='Mixture of Poissons')\n",
    "plt.plot(np.arange(freq.size), freq/np.sum(freq), 'o', color='orange',label='Original data')\n",
    "plt.legend()\n",
    "plt.xlabel(\"Number of Deaths\")\n",
    "plt.ylabel(\"Proportion\");\n"
   ]
  },
  {
   "cell_type": "markdown",
   "metadata": {},
   "source": [
    "***Comparison of methods:<br>***\n",
    "\n",
    "***The gradient ascent optimization method has 5 steps: <br>***\n",
    "1. First calculate log likelihood\n",
    "2. Calculate gradient for all the 3 parameters. \n",
    "3. Then update the parameters and check condition if new likelihood is greater than the previous one. \n",
    "3a. We also will be checking for Nan values since gradient may be negative.<br>\n",
    "4. The EM algorithm involves calculating Ez, $\\alpha$ $\\mu1$ and $\\mu2$ and updating the value with each iteration until the increase in likelihood is less than a particular threshold.<br>\n",
    "\n",
    "Hence we can see that the EM algorithm requires less steps as compared to the gradient ascent method.<br>\n",
    "\n",
    "* Also, we see that the running time of poisson gradient is more than that of EM method. \n",
    "* (Here we observe a huge difference because we are running the posisson algorithm for 1000 times.Even without 1000 iterations that it runtime is more than EM Algorithm).\n",
    "* The gradient ascent method is slower since it involves computing the gradient at each iteration which is computationally expensive. <br>\n",
    "\n",
    "***Advantages of each method:***\n",
    "\n",
    "1. Loglikehood function has a close form solution and hence can converge faster than EM Method.\n",
    "    * This comes with caveat of choosing good starting values\n",
    "2. The EM method is more stable and tends to converge even if the starting values are off target."
   ]
  }
 ],
 "metadata": {
  "kernelspec": {
   "display_name": "Python 3",
   "language": "python",
   "name": "python3"
  },
  "language_info": {
   "codemirror_mode": {
    "name": "ipython",
    "version": 3
   },
   "file_extension": ".py",
   "mimetype": "text/x-python",
   "name": "python",
   "nbconvert_exporter": "python",
   "pygments_lexer": "ipython3",
   "version": "3.7.1"
  }
 },
 "nbformat": 4,
 "nbformat_minor": 2
}
