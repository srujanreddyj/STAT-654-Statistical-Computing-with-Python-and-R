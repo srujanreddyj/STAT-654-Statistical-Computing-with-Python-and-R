{
 "cells": [
  {
   "cell_type": "code",
   "execution_count": 0,
   "metadata": {
    "colab": {},
    "colab_type": "code",
    "id": "oPcj2_XjDpO6"
   },
   "outputs": [],
   "source": [
    "ram.transition <- function(current.x, current.z, var.cov, epsilon) {\n",
    "\n",
    "  x.c <- current.x\n",
    "  z.c <- current.z\n",
    "  x.dim <- length(x.c)\n",
    "  x.c.den <- target(x.c)\n",
    "  z.c.den <- target(z.c)\n",
    "  accept <- 0\n",
    "\n",
    "  # downhill\n",
    "  x.p1 <- mvrnorm(1, mu = x.c, Sigma = var.cov)\n",
    "  x.p1.den <- target(x.p1)\n",
    "  N.d <- 1\n",
    "  while (-rexp(1) > log(x.c.den + epsilon) - log(x.p1.den + epsilon)) {\n",
    "    x.p1 <- mvrnorm(1, mu = x.c, Sigma = var.cov)\n",
    "    x.p1.den <- target(x.p1)\n",
    "    N.d <- N.d + 1\n",
    "  }\n",
    "\n",
    "  # uphill\n",
    "  x.p2 <- mvrnorm(1, mu = x.p1, Sigma = var.cov)\n",
    "  x.p2.den <- target(x.p2)\n",
    "  N.u <- 1\n",
    "  while (-rexp(1) > log(x.p2.den + epsilon) - log(x.p1.den + epsilon)) {\n",
    "    x.p2 <- mvrnorm(1, mu = x.p1, Sigma = var.cov)\n",
    "    x.p2.den <- target(x.p2)\n",
    "    N.u <- N.u + 1\n",
    "  }\n",
    "\n",
    "  # downhill for auxiliary variable z\n",
    "  z <- mvrnorm(1, mu = x.p2, Sigma = var.cov)\n",
    "  z.den <- target(z)\n",
    "  N.z <- 1  \n",
    "  while (-rexp(1) > log(x.p2.den + epsilon) - log(z.den + epsilon)) {\n",
    "    z <- mvrnorm(1, mu = x.p2, Sigma = var.cov)\n",
    "    z.den <- target(z)\n",
    "    N.z <- N.z + 1  \n",
    "  }\n",
    "\n",
    "\n",
    "  # accept or reject the proposal\n",
    "  min.nu <- min(1, (x.c.den + epsilon) / (z.c.den + epsilon))\n",
    "  min.de <- min(1, (x.p2.den + epsilon) / (z.den + epsilon))\n",
    "  l.mh <- log(x.p2.den) - log(x.c.den) + log(min.nu) - log(min.de)\n",
    "\n",
    "  if (l.mh > -rexp(1)) {\n",
    "    x.c <- x.p2\n",
    "    z.c <- z\n",
    "    accept <- 1\n",
    "  }\n",
    "\n",
    "  c(x.c, z.c, accept, N.d, N.u, N.z)\n",
    "\n",
    "}"
   ]
  },
  {
   "cell_type": "markdown",
   "metadata": {
    "colab_type": "text",
    "id": "FfLpSjmAEx-w"
   },
   "source": [
    "RAM ALGORITHM"
   ]
  },
  {
   "cell_type": "code",
   "execution_count": 0,
   "metadata": {
    "colab": {},
    "colab_type": "code",
    "id": "uNCbhmqcErdZ"
   },
   "outputs": [],
   "source": [
    "\n",
    "\n",
    "ram <- function(x.initial, z.initial, var.cov, sample.size, burn.size, \n",
    "                epsilon = 10^(-308), one.time.adaptation = FALSE) {\n",
    "  \n",
    "  print(Sys.time())\n",
    "  n.total <- sample.size + burn.size\n",
    "  x.dim <- length(x.initial)\n",
    "  accept <- rep(0, n.total)\n",
    "\n",
    "  N.d <- rep(NA, n.total)\n",
    "  N.u <- rep(NA, n.total)\n",
    "  N.z <- rep(NA, n.total)\n",
    "\n",
    "  if (x.dim == 1) {\n",
    "    out <- rep(NA, n.total)\n",
    "  } else {\n",
    "    out <- matrix(NA, nrow = n.total, ncol = x.dim)\n",
    "  }\n",
    "\n",
    "  x.t <- x.initial\n",
    "  z.t <- z.initial\n",
    "  var.t <- var.cov\n",
    "\n",
    "  for (i in 1 : n.total) {\n",
    "\n",
    "    temp <- ram.transition(x.t, z.t, var.t, epsilon)\n",
    "\n",
    "    if (x.dim == 1) {\n",
    "      x.t <- out[i] <- temp[1]\n",
    "      z.t <- temp[2]\n",
    "      accept[i] <- temp[3]\n",
    "      N.d[i] <- temp[4]\n",
    "      N.u[i] <- temp[5]\n",
    "      N.z[i] <- temp[6]\n",
    "    } else {\n",
    "      x.t <- out[i, ] <- temp[1 : x.dim]\n",
    "      z.t <- temp[(x.dim + 1) : (2 * x.dim)]\n",
    "      accept[i] <- temp[2 * x.dim + 1]\n",
    "      N.d[i] <- temp[2 * x.dim + 2]\n",
    "      N.u[i] <- temp[2 * x.dim + 3]\n",
    "      N.z[i] <- temp[2 * x.dim + 4]\n",
    "    }   \n",
    "\n",
    "    if (one.time.adaptation == TRUE) {\n",
    "      if (i == burn.size) {\n",
    "        if (x.dim == 1) {\n",
    "          var.t <- var(out[1 : i])\n",
    "        } else {\n",
    "          var.t <- var(out[1 : i, ])\n",
    "        }\n",
    "      }\n",
    "    }\n",
    "\n",
    "  }\n",
    "\n",
    "  print(Sys.time())\n",
    "\n",
    "  if (x.dim == 1) {\n",
    "    out <- list(x = out[-c(1 : burn.size)],\n",
    "                accept = accept[-c(1 : burn.size)],\n",
    "                N.d = N.d,\n",
    "                N.u = N.u,\n",
    "                N.z = N.z)\n",
    "  } else {\n",
    "    out <- list(x = out[-c(1 : burn.size), ],\n",
    "                accept = accept[-c(1 : burn.size)],\n",
    "                N.d = N.d,\n",
    "                N.u = N.u,\n",
    "                N.z = N.z)\n",
    "  }\n",
    "\n",
    "  out  \n",
    "\n",
    "}"
   ]
  },
  {
   "cell_type": "code",
   "execution_count": 0,
   "metadata": {
    "colab": {},
    "colab_type": "code",
    "id": "Q_tKTLFEFEOB"
   },
   "outputs": [],
   "source": [
    "target <- function(a) {\n",
    "  sum(sapply(1 : dim(mean.mat)[1], \n",
    "             function(t) { weight * dmnorm(a, mean = mean.mat[t, ], varcov = varCov) }))\n",
    "}"
   ]
  },
  {
   "cell_type": "markdown",
   "metadata": {
    "colab_type": "text",
    "id": "ECHAJL9XEwxk"
   },
   "source": [
    "Example 3: Sensor location problem"
   ]
  },
  {
   "cell_type": "code",
   "execution_count": 0,
   "metadata": {
    "colab": {},
    "colab_type": "code",
    "id": "vzY7B_aWFHoP"
   },
   "outputs": [],
   "source": [
    "\n",
    "######## Data\n",
    "\n",
    "# Observation indicators from the fifth sensor (1st column) to the first four sensors\n",
    "# and those from the sixth sensor (2nd column) to the first four sensors.\n",
    "Ob <- matrix(c(1, 0, 1, 0, 1, 0, 1, 0), ncol = 2)\n",
    "\n",
    "# Observation indicators among the first four sensors. \n",
    "Os <- matrix(c(0, 0, 0, 1,\n",
    "               0, 0, 1, 1,\n",
    "               0, 1, 0, 0,\n",
    "               1, 1, 0, 0), ncol = 4)\n",
    "\n",
    "# Each row indicates the location of the known sensors (5th and 6th).\n",
    "Xb <- matrix(c(0.5, 0.3, 0.3, 0.7), ncol = 2)\n",
    "\n",
    "# Each row indicates the location of the unknown sensors (1st, 2nd, 3rd, and 4th).\n",
    "Xs <- matrix(c(0.5748, 0.0991, 0.2578, 0.8546, \n",
    "               0.9069, 0.3651, 0.1350, 0.0392), ncol = 2)\n",
    "\n",
    "# The observed distances from the fifth sensor (1st column) to the first four sensors\n",
    "# and those from the sixth sensor (2nd column) to the first four sensors.\n",
    "Yb <- matrix(c(0.6103, 0, 0.2995, 0, \n",
    "               0.3631, 0, 0.5656, 0), ncol = 2)\n",
    "\n",
    "# Observed distances among the first four sensors.\n",
    "Ys <- matrix(c(0, 0, 0, 0.9266,\n",
    "               0, 0, 0.2970, 0.8524,\n",
    "               0, 0.2970, 0, 0,\n",
    "               0.9266, 0.8524, 0, 0), ncol = 4)\n"
   ]
  },
  {
   "cell_type": "markdown",
   "metadata": {
    "colab_type": "text",
    "id": "lExQSPYsFMfu"
   },
   "source": [
    "Target joint posterior density"
   ]
  },
  {
   "cell_type": "code",
   "execution_count": 0,
   "metadata": {
    "colab": {},
    "colab_type": "code",
    "id": "x_taxlUOFKL6"
   },
   "outputs": [],
   "source": [
    "\n",
    "\n",
    "norm2 <- function(loca, locb) {\n",
    "  sqrt(sum((loca - locb)^2))\n",
    "}\n",
    "\n",
    "l.target <- function(loc, R = 0.3, sigma = 0.02, Ob, Os, Xb, Xs, Yb, Ys) {\n",
    "\n",
    "  First.term <- NULL\n",
    "  for (i in 1 : 2) {\n",
    "    TEMP <- sapply(1 : 4, function(j) {\n",
    "      exp(-norm2(Xb[i, ], loc[(2 * j -1) : (2 * j)])^2 / 2 / R^2 * Ob[j, i]) *\n",
    "      (1 - exp(-norm2(Xb[i, ], loc[(2 * j -1) : (2 * j)])^2 / 2 / R^2))^(1 - Ob[j, i]) \n",
    "    })\n",
    "    First.term <- c(First.term, TEMP)\n",
    "  }\n",
    "\n",
    "  Second.term <- NULL\n",
    "  for (i in 1 : 3) {\n",
    "    TEMP <- sapply((i + 1) : 4, function(j) {\n",
    "      exp(-norm2(loc[(2 * i -1) : (2 * i)], \n",
    "                 loc[(2 * j -1) : (2 * j)])^2 / 2 / R^2 * Os[i, j]) *\n",
    "      (1 - exp(-norm2(loc[(2 * i -1) : (2 * i)], \n",
    "                      loc[(2 * j -1) : (2 * j)])^2 / 2 / R^2))^(1 - Os[i, j]) \n",
    "    })\n",
    "    Second.term <- c(Second.term, TEMP)\n",
    "  }\n",
    "\n",
    "  First.obs.term <- NULL\n",
    "  for (i in 1 : 2) {\n",
    "    TEMP <- sapply(1 : 4, function(j) {\n",
    "      dnorm(Yb[j, i], mean = norm2(Xb[i, ], loc[(2 * j -1) : (2 * j)]), \n",
    "                      sd = sigma)^Ob[j, i]\n",
    "    })\n",
    "    First.obs.term <- c(First.obs.term, TEMP)\n",
    "  }\n",
    "\n",
    "  Second.obs.term <- NULL\n",
    "  for (i in 1 : 3) {\n",
    "    TEMP <- sapply((i + 1) : 4, function(j) {\n",
    "      dnorm(Ys[i, j], mean = norm2(loc[(2 * i -1) : (2 * i)], \n",
    "                                   loc[(2 * j -1) : (2 * j)]), \n",
    "                      sd = sigma)^Os[i, j]\n",
    "    })\n",
    "    Second.obs.term <- c(Second.obs.term, TEMP)\n",
    "  }\n",
    "\n",
    "  log.lik <- sum(log(c(First.term, Second.term, First.obs.term, Second.obs.term)))\n",
    "  post <- log.lik + sum(dnorm(loc, mean = rep(0, 8), sd = rep(10, 8), log = TRUE))\n",
    "  post\n",
    "\n",
    "}"
   ]
  },
  {
   "cell_type": "markdown",
   "metadata": {
    "colab_type": "text",
    "id": "i4I6tlN4FWWm"
   },
   "source": [
    "RAM"
   ]
  },
  {
   "cell_type": "code",
   "execution_count": 0,
   "metadata": {
    "colab": {},
    "colab_type": "code",
    "id": "mbhC4_dnFSjB"
   },
   "outputs": [],
   "source": [
    "\n",
    "\n",
    "ram.kernel <- function(current.location, current.aux, loc.number, scale) {\n",
    "\n",
    "  eps <- 10^(-308)\n",
    "  accept <- 0\n",
    "  x.c <- current.location \n",
    "  log.x.c.den <- l.target(x.c, 0.3, 0.02, Ob, Os, Xb, Xs, Yb, Ys)\n",
    "  x.c.den <- exp(log.x.c.den)\n",
    "  z.c <- current.aux\n",
    "  log.z.c.den <- l.target(z.c, 0.3, 0.02, Ob, Os, Xb, Xs, Yb, Ys)\n",
    "  z.c.den <- exp(log.z.c.den)\n",
    "\n",
    "  # downhill\n",
    "  x.p1 <- x.c\n",
    "  x.p1[(2 * loc.number - 1) : (2 * loc.number)] <- x.p1[(2 * loc.number - 1) : (2 * loc.number)] + \n",
    "                                                   rnorm(2, 0, scale)\n",
    "  log.x.p1.den <- l.target(x.p1, 0.3, 0.02, Ob, Os, Xb, Xs, Yb, Ys)\n",
    "  x.p1.den <- exp(log.x.p1.den)\n",
    "  N.d <- 1\n",
    "  while (-rexp(1) > log(x.c.den + eps) - log(x.p1.den + eps)) {\n",
    "    x.p1 <- x.c\n",
    "    x.p1[(2 * loc.number - 1) : (2 * loc.number)] <- x.p1[(2 * loc.number - 1) : (2 * loc.number)] + \n",
    "                                                     rnorm(2, 0, scale)\n",
    "    log.x.p1.den <- l.target(x.p1, 0.3, 0.02, Ob, Os, Xb, Xs, Yb, Ys)\n",
    "    x.p1.den <- exp(log.x.p1.den)\n",
    "    N.d <- N.d + 1\n",
    "  }\n",
    "\n",
    "  # uphill\n",
    "  x.p2 <- x.p1\n",
    "  x.p2[(2 * loc.number - 1) : (2 * loc.number)] <- x.p2[(2 * loc.number - 1) : (2 * loc.number)] + \n",
    "                                                   rnorm(2, 0, scale)\n",
    "  log.x.p2.den <- l.target(x.p2, 0.3, 0.02, Ob, Os, Xb, Xs, Yb, Ys)\n",
    "  x.p2.den <- exp(log.x.p2.den)\n",
    "  N.u <- 1\n",
    "  while (-rexp(1) > log(x.p2.den + eps) - log(x.p1.den + eps)) {\n",
    "    x.p2 <- x.p1\n",
    "    x.p2[(2 * loc.number - 1) : (2 * loc.number)] <- x.p2[(2 * loc.number - 1) : (2 * loc.number)] + \n",
    "                                                     rnorm(2, 0, scale)\n",
    "    log.x.p2.den <- l.target(x.p2, 0.3, 0.02, Ob, Os, Xb, Xs, Yb, Ys)\n",
    "    x.p2.den <- exp(log.x.p2.den)\n",
    "    N.u <- N.u + 1\n",
    "  }\n",
    "\n",
    "  # downhill for N.d\n",
    "  N.dz <- 1     # number of total downhill trials for estimate\n",
    "  z <- x.p2\n",
    "  z[(2 * loc.number - 1) : (2 * loc.number)] <- z[(2 * loc.number - 1) : (2 * loc.number)] + \n",
    "                                                rnorm(2, 0, scale)\n",
    "  log.z.den <- l.target(z, 0.3, 0.02, Ob, Os, Xb, Xs, Yb, Ys)\n",
    "  z.den <- exp(log.z.den)\n",
    "  while (-rexp(1) > log(x.p2.den + eps) - log(z.den + eps)) {\n",
    "    z <- x.p2\n",
    "    z[(2 * loc.number - 1) : (2 * loc.number)] <- z[(2 * loc.number - 1) : (2 * loc.number)] + \n",
    "                                                  rnorm(2, 0, scale)\n",
    "    log.z.den <- l.target(z, 0.3, 0.02, Ob, Os, Xb, Xs, Yb, Ys)\n",
    "    z.den <- exp(log.z.den)\n",
    "    N.dz <- N.dz + 1\n",
    "  }\n",
    "\n",
    "  # accept or reject the proposal\n",
    "  min.nu <- min(1, (x.c.den + eps) / (z.c.den + eps))\n",
    "  min.de <- min(1, (x.p2.den + eps) / (z.den + eps))\n",
    "  l.mh <- log.x.p2.den - log.x.c.den + log(min.nu) - log(min.de)\n",
    "\n",
    "  if (l.mh > -rexp(1)) {\n",
    "    x.c <- x.p2\n",
    "    z.c <- z\n",
    "    accept <- 1\n",
    "  }\n",
    "\n",
    "  c(x.c, z.c, N.d, N.u, N.dz, accept)\n",
    "}"
   ]
  },
  {
   "cell_type": "code",
   "execution_count": 0,
   "metadata": {
    "colab": {},
    "colab_type": "code",
    "id": "JuhSs3VuFXsn"
   },
   "outputs": [],
   "source": [
    "MHwG.RAM <- function(initial.loc, initial.aux, jump.scale, \n",
    "             Ob, Os, Xb, Xs, Yb, Ys, n.sample = 10, n.burn = 10) {\n",
    "\n",
    "  print(Sys.time())\n",
    "  n.total <- n.sample + n.burn\n",
    "  accept <- matrix(0, nrow = n.total, ncol = 4)\n",
    "  out <- matrix(NA, nrow = n.total, ncol = 8)\n",
    "  loc.t <- initial.loc\n",
    "  aux.t <- initial.aux\n",
    "  Nd <- matrix(NA, nrow = n.total, ncol = 4)\n",
    "  Nu <- matrix(NA, nrow = n.total, ncol = 4)\n",
    "  Nz <- matrix(NA, nrow = n.total, ncol = 4)\n",
    "  \n",
    "  for (i in 1 : n.total) {\n",
    "    for (j in 1 : 4) {\n",
    "      TEMP <- ram.kernel(loc.t, aux.t, j, jump.scale[j])\n",
    "      loc.t <- TEMP[1 : 8]\n",
    "      aux.t <- TEMP[9 : 16]\n",
    "      Nd[i, j] <- TEMP[17]\n",
    "      Nu[i, j] <- TEMP[18]\n",
    "      Nz[i, j] <- TEMP[19]\n",
    "      accept[i, j] <- TEMP[20]\n",
    "    }\n",
    "    out[i, ] <- loc.t\n",
    "  }\n",
    "  print(Sys.time())\n",
    "  list(x = out[-c(1 : n.burn), ], \n",
    "       accept = accept[-c(1 : n.burn), ],\n",
    "       N.d = Nd[-c(1 : n.burn), ],\n",
    "       N.u = Nu[-c(1 : n.burn), ],\n",
    "       N.z = Nz[-c(1 : n.burn), ])\n",
    "\n",
    "}\n"
   ]
  },
  {
   "cell_type": "code",
   "execution_count": 8,
   "metadata": {
    "colab": {
     "base_uri": "https://localhost:8080/",
     "height": 84
    },
    "colab_type": "code",
    "id": "n1lfjacxF4PT",
    "outputId": "13b25119-6228-4539-d656-f2e73591cd73"
   },
   "outputs": [
    {
     "name": "stdout",
     "output_type": "stream",
     "text": [
      "[1] \"2020-04-06 20:03:57 UTC\"\n",
      "[1] \"2020-04-06 20:52:03 UTC\"\n"
     ]
    },
    {
     "data": {
      "text/plain": [
       "    user   system  elapsed \n",
       "2877.636    0.573 2885.429 "
      ]
     },
     "metadata": {
      "tags": []
     },
     "output_type": "display_data"
    }
   ],
   "source": [
    "j.scale <- rep(1.08, 4)\n",
    "system.time(res.ram <- MHwG.RAM(runif(8), runif(8), jump.scale = j.scale, \n",
    "                                Ob, Os, Xb, Xs, Yb, Ys, \n",
    "                                n.sample = 200000, n.burn = 20000))\n",
    "# The sample size used in the article is \n",
    "# \"sample.size = 200000\" and \"burn.size = 20000\"."
   ]
  },
  {
   "cell_type": "code",
   "execution_count": 0,
   "metadata": {
    "colab": {},
    "colab_type": "code",
    "id": "XI3f_SkUF6nz"
   },
   "outputs": [],
   "source": [
    "system.time(res.ram.den <- MHwG.RAM(runif(8), runif(8), jump.scale = j.scale, \n",
    "                                Ob, Os, Xb, Xs, Yb, Ys, \n",
    "                                n.sample = 20000000, n.burn = 20000))\n",
    "# The sample size used in the article is \n",
    "# \"sample.size = 20000000\" and \"burn.size = 20000\"."
   ]
  },
  {
   "cell_type": "code",
   "execution_count": 9,
   "metadata": {
    "colab": {
     "base_uri": "https://localhost:8080/",
     "height": 84
    },
    "colab_type": "code",
    "id": "48_JehSzF_LU",
    "outputId": "1ef4ec8f-629e-4137-ff7d-de9b1042234e"
   },
   "outputs": [
    {
     "data": {
      "text/html": [
       "<style>\n",
       ".list-inline {list-style: none; margin:0; padding: 0}\n",
       ".list-inline>li {display: inline-block}\n",
       ".list-inline>li:not(:last-child)::after {content: \"\\00b7\"; padding: 0 .5ex}\n",
       "</style>\n",
       "<ol class=list-inline><li>0.003365</li><li>0.007945</li><li>0.003435</li><li>0.00686</li></ol>\n"
      ],
      "text/latex": [
       "\\begin{enumerate*}\n",
       "\\item 0.003365\n",
       "\\item 0.007945\n",
       "\\item 0.003435\n",
       "\\item 0.00686\n",
       "\\end{enumerate*}\n"
      ],
      "text/markdown": [
       "1. 0.003365\n",
       "2. 0.007945\n",
       "3. 0.003435\n",
       "4. 0.00686\n",
       "\n",
       "\n"
      ],
      "text/plain": [
       "[1] 0.003365 0.007945 0.003435 0.006860"
      ]
     },
     "metadata": {
      "tags": []
     },
     "output_type": "display_data"
    },
    {
     "data": {
      "text/html": [
       "<style>\n",
       ".list-inline {list-style: none; margin:0; padding: 0}\n",
       ".list-inline>li {display: inline-block}\n",
       ".list-inline>li:not(:last-child)::after {content: \"\\00b7\"; padding: 0 .5ex}\n",
       "</style>\n",
       "<ol class=list-inline><li>1.00012</li><li>1.000405</li><li>1.000115</li><li>1.00025</li></ol>\n"
      ],
      "text/latex": [
       "\\begin{enumerate*}\n",
       "\\item 1.00012\n",
       "\\item 1.000405\n",
       "\\item 1.000115\n",
       "\\item 1.00025\n",
       "\\end{enumerate*}\n"
      ],
      "text/markdown": [
       "1. 1.00012\n",
       "2. 1.000405\n",
       "3. 1.000115\n",
       "4. 1.00025\n",
       "\n",
       "\n"
      ],
      "text/plain": [
       "[1] 1.000120 1.000405 1.000115 1.000250"
      ]
     },
     "metadata": {
      "tags": []
     },
     "output_type": "display_data"
    },
    {
     "data": {
      "text/html": [
       "<style>\n",
       ".list-inline {list-style: none; margin:0; padding: 0}\n",
       ".list-inline>li {display: inline-block}\n",
       ".list-inline>li:not(:last-child)::after {content: \"\\00b7\"; padding: 0 .5ex}\n",
       "</style>\n",
       "<ol class=list-inline><li>7.223455</li><li>6.70173</li><li>7.015195</li><li>7.122465</li></ol>\n"
      ],
      "text/latex": [
       "\\begin{enumerate*}\n",
       "\\item 7.223455\n",
       "\\item 6.70173\n",
       "\\item 7.015195\n",
       "\\item 7.122465\n",
       "\\end{enumerate*}\n"
      ],
      "text/markdown": [
       "1. 7.223455\n",
       "2. 6.70173\n",
       "3. 7.015195\n",
       "4. 7.122465\n",
       "\n",
       "\n"
      ],
      "text/plain": [
       "[1] 7.223455 6.701730 7.015195 7.122465"
      ]
     },
     "metadata": {
      "tags": []
     },
     "output_type": "display_data"
    },
    {
     "data": {
      "text/html": [
       "<style>\n",
       ".list-inline {list-style: none; margin:0; padding: 0}\n",
       ".list-inline>li {display: inline-block}\n",
       ".list-inline>li:not(:last-child)::after {content: \"\\00b7\"; padding: 0 .5ex}\n",
       "</style>\n",
       "<ol class=list-inline><li>1.068405</li><li>1.07459</li><li>1.05451</li><li>1.127485</li></ol>\n"
      ],
      "text/latex": [
       "\\begin{enumerate*}\n",
       "\\item 1.068405\n",
       "\\item 1.07459\n",
       "\\item 1.05451\n",
       "\\item 1.127485\n",
       "\\end{enumerate*}\n"
      ],
      "text/markdown": [
       "1. 1.068405\n",
       "2. 1.07459\n",
       "3. 1.05451\n",
       "4. 1.127485\n",
       "\n",
       "\n"
      ],
      "text/plain": [
       "[1] 1.068405 1.074590 1.054510 1.127485"
      ]
     },
     "metadata": {
      "tags": []
     },
     "output_type": "display_data"
    }
   ],
   "source": [
    "##TABLE\n",
    "\n",
    "colMeans(res.ram$accept)\n",
    "colMeans(res.ram$N.d)\n",
    "colMeans(res.ram$N.u)\n",
    "colMeans(res.ram$N.z)"
   ]
  },
  {
   "cell_type": "code",
   "execution_count": 12,
   "metadata": {
    "colab": {
     "base_uri": "https://localhost:8080/",
     "height": 437
    },
    "colab_type": "code",
    "id": "4lvZLArlGA83",
    "outputId": "7d15ae32-d440-4b7d-838b-e6b744a8c2a5"
   },
   "outputs": [
    {
     "data": {
      "image/png": "[encoded data removed]",
      "text/plain": [
       "Plot with title “bold(paste(\"RAM: \", x[4]))”"
      ]
     },
     "metadata": {
      "image/png": {
       "height": 420,
       "width": 420
      },
      "tags": [],
      "text/plain": {
       "height": 420,
       "width": 420
      }
     },
     "output_type": "display_data"
    }
   ],
   "source": [
    "##graph\n",
    "\n",
    "\n",
    "\n",
    "par(mfrow=c(2,2))\n",
    "\n",
    "plot(res.ram$x[, c(1, 2)], pch = 46, xlim = c(-0.2, 0.8), ylim = c(0.3, 1.1),\n",
    "     xlab = \"\", ylab = \"\", main = \"\")\n",
    "title(expression(bold(paste(\"RAM: \", x[1]))))\n",
    "mtext(side = 1, text = expression(bold(x[11])), line = 1.6, cex = 1.2)\n",
    "mtext(side = 2, text = expression(bold(x[12])), line = 1.9, cex = 1.2)\n",
    "abline(v = 0.5748, lty = 2, lwd = 1)\n",
    "abline(h = 0.9069, lty = 2, lwd = 1)\n",
    "\n",
    "plot(res.ram$x[, c(3, 4)], pch = 46, xlim = c(-0.3, 1.3), ylim = c(-0.5, 1.1),\n",
    "     xlab = \"\", ylab = \"\", main = \"\")\n",
    "title(expression(bold(paste(\"RAM: \", x[2]))))\n",
    "mtext(side = 1, text = expression(bold(x[21])), line = 1.6, cex = 1.2)\n",
    "mtext(side = 2, text = expression(bold(x[22])), line = 1.9, cex = 1.2)\n",
    "abline(v = 0.0991, lty = 2, lwd = 1)\n",
    "abline(h = 0.3651, lty = 2, lwd = 1)\n",
    "\n",
    "plot(res.ram$x[, c(5, 6)], pch = 46, xlim = c(0, 1), ylim = c(-0.1, 0.65),\n",
    "     xlab = \"\", ylab = \"\", main = \"\")\n",
    "title(expression(bold(paste(\"RAM: \", x[3]))))\n",
    "mtext(side = 1, text = expression(bold(x[31])), line = 1.6, cex = 1.2)\n",
    "mtext(side = 2, text = expression(bold(x[32])), line = 1.9, cex = 1.2)\n",
    "abline(v = 0.2578, lty = 2, lwd = 1)\n",
    "abline(h = 0.1350, lty = 2, lwd = 1)\n",
    "\n",
    "plot(res.ram$x[, c(7, 8)], pch = 46, xlim = c(-1, 2), ylim = c(-0.5, 2),\n",
    "     xlab = \"\", ylab = \"\", main = \"\")\n",
    "title(expression(bold(paste(\"RAM: \", x[4]))))\n",
    "mtext(side = 1, text = expression(bold(x[41])), line = 1.6, cex = 1.2)\n",
    "mtext(side = 2, text = expression(bold(x[42])), line = 1.9, cex = 1.2)\n",
    "abline(v = 0.8546, lty = 2, lwd = 1)\n",
    "abline(h = 0.0392, lty = 2, lwd = 1)"
   ]
  },
  {
   "cell_type": "code",
   "execution_count": 0,
   "metadata": {
    "colab": {},
    "colab_type": "code",
    "id": "vxZW0XGCGBwf"
   },
   "outputs": [],
   "source": [
    "hist(res.ram$x[, 1], 50, prob = TRUE, main = \"\", xlab = \"\", ylab = \"\",\n",
    "     ylim = c(0, 11), xlim = c(-0.2, 0.75))\n",
    "title(expression(bold(paste(\"RAM: \", x[11]))))\n",
    "mtext(side = 1, text = expression(bold(x[11])), line = 1.6, cex = 1.2)\n",
    "mtext(side = 2, text = \"Density\", line = 1.7, cex = 1.2, las = 0)\n",
    "index <- which(!is.na(res))\n",
    "lines(density(res.ram.den$x[, 1]), lwd = 1.5)\n",
    "legend(\"top\", c(expression(bold(\"Marginal dist.\")), \n",
    "                    expression(bold(\"True location\"))), lwd = 3, \n",
    "       bty = \"n\", seg.len = 0.9, cex = 0.9, lty = c(1, 3))\n",
    "abline(v = 0.5748, lty = 2, lwd = 2)\n",
    "\n",
    "\n",
    "\n",
    "hist(res.ram$x[, 3], 30, prob = TRUE, main = \"\", xlab = \"\", ylab = \"\",\n",
    "     ylim = c(0, 3), xlim = c(-0.15, 1.3))\n",
    "title(expression(bold(paste(\"RAM: \", x[21]))))\n",
    "mtext(side = 1, text = expression(bold(x[21])), line = 1.6, cex = 1.2)\n",
    "mtext(side = 2, text = \"Density\", line = 1.8, cex = 1.2, las = 0)\n",
    "legend(\"top\", c(expression(bold(\"Marginal dist.\")), \n",
    "                    expression(bold(\"True location\"))), lwd = 3, \n",
    "       bty = \"n\", seg.len = 0.9, cex = 0.9, lty = c(1, 3))\n",
    "lines(density(res.ram.den$x[, 3]), lwd = 1.5)\n",
    "abline(v = 0.1, lty = 2, lwd = 2)\n",
    "\n",
    "\n",
    "hist(res.ram$x[, 5], 30, prob = TRUE, main = \"\", xlab = \"\", ylab = \"\",\n",
    "     ylim = c(0, 15), xlim = c(0.15, 0.85))\n",
    "mtext(side = 1, text = expression(bold(x[31])), line = 1.6, cex = 1.2)\n",
    "mtext(side = 2, text = \"Density\", line = 1.7, cex = 1.2, las = 0)\n",
    "index <- which(!is.na(res))\n",
    "title(expression(bold(paste(\"RAM: \", x[31]))))\n",
    "lines(density(res.ram.den$x[, 5]), lwd = 1.5)\n",
    "legend(\"top\", c(expression(bold(\"Marginal dist.\")), \n",
    "                    expression(bold(\"True location\"))), lwd = 3, \n",
    "       bty = \"n\", seg.len = 0.9, cex = 0.9, lty = c(1, 3))\n",
    "abline(v = 0.2578, lty = 2, lwd = 2)\n",
    "\n",
    "\n",
    "hist(res.ram$x[, 7], 30, prob = TRUE, main = \"\", xlab = \"\", ylab = \"\",\n",
    "     ylim = c(0, 2.3), xlim = c(-1.1, 1.8))\n",
    "mtext(side = 1, text = expression(bold(x[41])), line = 1.6, cex = 1.2)\n",
    "mtext(side = 2, text = \"Density\", line = 1.7, cex = 1.2, las = 0)\n",
    "title(expression(bold(paste(\"RAM: \", x[41]))))\n",
    "lines(density(res.ram.den$x[, 7]), lwd = 1.5)\n",
    "legend(\"topleft\", c(expression(bold(\"Marginal dist.\")), \n",
    "                    expression(bold(\"True location\"))), lwd = 3, \n",
    "       bty = \"n\", seg.len = 0.9, cex = 0.9, lty = c(1, 3))\n",
    "abline(v = 0.85, lty = 2, lwd = 2)"
   ]
  }
 ],
 "metadata": {
  "colab": {
   "collapsed_sections": [],
   "name": "Implementation of RAM algorithm on SENSOR Data.ipynb",
   "provenance": []
  },
  "kernelspec": {
   "display_name": "R",
   "language": "R",
   "name": "ir"
  },
  "language_info": {
   "codemirror_mode": "r",
   "file_extension": ".r",
   "mimetype": "text/x-r-source",
   "name": "R",
   "pygments_lexer": "r",
   "version": "3.6.1"
  }
 },
 "nbformat": 4,
 "nbformat_minor": 1
}
