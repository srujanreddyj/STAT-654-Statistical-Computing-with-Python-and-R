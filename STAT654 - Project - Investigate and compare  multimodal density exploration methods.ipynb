{
 "cells": [
  {
   "cell_type": "markdown",
   "metadata": {},
   "source": [
    "\n",
    "# Studying Repelling-Attracting Metropolis Algorithm for Multimodality’ based on paper by ‘Hyungsuk Tak’ by applying on Sensor network"
   ]
  },
  {
   "cell_type": "markdown",
   "metadata": {},
   "source": [
    "Improvements in sensing technology and wireless communication are rapidly increasing the importance of sensor networks for a wide variety of application domains. Sensor localization is the process of obtaining the estimates of each sensors position as well as accurately represenitng the uncertianity of estimates."
   ]
  },
  {
   "cell_type": "markdown",
   "metadata": {},
   "source": [
    "Here we consider an example from Ilher et all.(2005). This example searchfor unknown sensor lcations within a network using the noisy distance data."
   ]
  },
  {
   "cell_type": "markdown",
   "metadata": {},
   "source": [
    "## Model and Likelihood Function\n",
    "\n",
    "We observe \"noisy\" distance estimates between pairs of sensors. Further, there is a probability that no distance measurement is made. The probability is proportional to the distance between the two sensors.\n",
    "\n",
    "Let $x_{i} = (x_{i1},x_{i2})$ be the Cartesian coordinates of sensor $i$. This data is stored in the rows of the matrix `X`.\n",
    "\n",
    "Let $W_{ij} = 1$ if a measurement is made between sensors $i$ and $j$ and $0$ if not. The article assumes\n",
    "$$ W_{ij} \\sim Bernoulli(e^{-||x_i - x_j||^2/(2*0.3^2)})$$.\n",
    "\n",
    "Given that a measurement is made, there is Normal measurement error\n",
    "$$ y_{ij} | w_{ij}=1 \\sim N(||x_i-x_j||,0.02^2).$$\n",
    "On average the measurement is correct. The standard deviation of the measurement is $0.02$.\n",
    "\n"
   ]
  },
  {
   "cell_type": "markdown",
   "metadata": {},
   "source": [
    "We now have all the data loaded. The plot in the paper which summarizes the data is:\n",
    "\n",
    "(requires internet connection to view)\n",
    "\n",
    "<img src=\"https://david-jones-statistics.github.io/statcomp/lectures/topic3-optimization/optimization_sensor.png\">"
   ]
  },
  {
   "cell_type": "code",
   "execution_count": 36,
   "metadata": {},
   "outputs": [
    {
     "data": {
      "text/html": [
       "<table>\n",
       "<tbody>\n",
       "\t<tr><td>1</td><td>1</td></tr>\n",
       "\t<tr><td>0</td><td>0</td></tr>\n",
       "\t<tr><td>1</td><td>1</td></tr>\n",
       "\t<tr><td>0</td><td>0</td></tr>\n",
       "</tbody>\n",
       "</table>\n"
      ],
      "text/latex": [
       "\\begin{tabular}{ll}\n",
       "\t 1 & 1\\\\\n",
       "\t 0 & 0\\\\\n",
       "\t 1 & 1\\\\\n",
       "\t 0 & 0\\\\\n",
       "\\end{tabular}\n"
      ],
      "text/markdown": [
       "\n",
       "| 1 | 1 |\n",
       "| 0 | 0 |\n",
       "| 1 | 1 |\n",
       "| 0 | 0 |\n",
       "\n"
      ],
      "text/plain": [
       "     [,1] [,2]\n",
       "[1,] 1    1   \n",
       "[2,] 0    0   \n",
       "[3,] 1    1   \n",
       "[4,] 0    0   "
      ]
     },
     "metadata": {},
     "output_type": "display_data"
    }
   ],
   "source": [
    "# Observation indicators from the fifth sensor (1st column) to the first four sensors\n",
    "# and those from the sixth sensor (2nd column) to the first four sensors.\n",
    "Ob <- matrix(c(1, 0, 1, 0, 1, 0, 1, 0), ncol = 2)\n",
    "Ob"
   ]
  },
  {
   "cell_type": "code",
   "execution_count": 37,
   "metadata": {},
   "outputs": [
    {
     "data": {
      "text/html": [
       "<table>\n",
       "<tbody>\n",
       "\t<tr><td>0</td><td>0</td><td>0</td><td>1</td></tr>\n",
       "\t<tr><td>0</td><td>0</td><td>1</td><td>1</td></tr>\n",
       "\t<tr><td>0</td><td>1</td><td>0</td><td>0</td></tr>\n",
       "\t<tr><td>1</td><td>1</td><td>0</td><td>0</td></tr>\n",
       "</tbody>\n",
       "</table>\n"
      ],
      "text/latex": [
       "\\begin{tabular}{llll}\n",
       "\t 0 & 0 & 0 & 1\\\\\n",
       "\t 0 & 0 & 1 & 1\\\\\n",
       "\t 0 & 1 & 0 & 0\\\\\n",
       "\t 1 & 1 & 0 & 0\\\\\n",
       "\\end{tabular}\n"
      ],
      "text/markdown": [
       "\n",
       "| 0 | 0 | 0 | 1 |\n",
       "| 0 | 0 | 1 | 1 |\n",
       "| 0 | 1 | 0 | 0 |\n",
       "| 1 | 1 | 0 | 0 |\n",
       "\n"
      ],
      "text/plain": [
       "     [,1] [,2] [,3] [,4]\n",
       "[1,] 0    0    0    1   \n",
       "[2,] 0    0    1    1   \n",
       "[3,] 0    1    0    0   \n",
       "[4,] 1    1    0    0   "
      ]
     },
     "metadata": {},
     "output_type": "display_data"
    }
   ],
   "source": [
    "# Observation indicators among the first four sensors.\n",
    "Os <- matrix(c(0, 0, 0, 1,\n",
    "               0, 0, 1, 1,\n",
    "               0, 1, 0, 0,\n",
    "               1, 1, 0, 0), ncol = 4)\n",
    "Os"
   ]
  },
  {
   "cell_type": "code",
   "execution_count": 38,
   "metadata": {},
   "outputs": [
    {
     "data": {
      "text/html": [
       "<table>\n",
       "<tbody>\n",
       "\t<tr><td>0.5</td><td>0.3</td></tr>\n",
       "\t<tr><td>0.3</td><td>0.7</td></tr>\n",
       "</tbody>\n",
       "</table>\n"
      ],
      "text/latex": [
       "\\begin{tabular}{ll}\n",
       "\t 0.5 & 0.3\\\\\n",
       "\t 0.3 & 0.7\\\\\n",
       "\\end{tabular}\n"
      ],
      "text/markdown": [
       "\n",
       "| 0.5 | 0.3 |\n",
       "| 0.3 | 0.7 |\n",
       "\n"
      ],
      "text/plain": [
       "     [,1] [,2]\n",
       "[1,] 0.5  0.3 \n",
       "[2,] 0.3  0.7 "
      ]
     },
     "metadata": {},
     "output_type": "display_data"
    }
   ],
   "source": [
    "# Each row indicates the location of the known sensors (5th and 6th).\n",
    "Xb <- matrix(c(0.5, 0.3, 0.3, 0.7), ncol = 2)\n",
    "Xb"
   ]
  },
  {
   "cell_type": "code",
   "execution_count": 39,
   "metadata": {},
   "outputs": [
    {
     "data": {
      "text/html": [
       "<table>\n",
       "<tbody>\n",
       "\t<tr><td>0.5748</td><td>0.9069</td></tr>\n",
       "\t<tr><td>0.0991</td><td>0.3651</td></tr>\n",
       "\t<tr><td>0.2578</td><td>0.1350</td></tr>\n",
       "\t<tr><td>0.8546</td><td>0.0392</td></tr>\n",
       "</tbody>\n",
       "</table>\n"
      ],
      "text/latex": [
       "\\begin{tabular}{ll}\n",
       "\t 0.5748 & 0.9069\\\\\n",
       "\t 0.0991 & 0.3651\\\\\n",
       "\t 0.2578 & 0.1350\\\\\n",
       "\t 0.8546 & 0.0392\\\\\n",
       "\\end{tabular}\n"
      ],
      "text/markdown": [
       "\n",
       "| 0.5748 | 0.9069 |\n",
       "| 0.0991 | 0.3651 |\n",
       "| 0.2578 | 0.1350 |\n",
       "| 0.8546 | 0.0392 |\n",
       "\n"
      ],
      "text/plain": [
       "     [,1]   [,2]  \n",
       "[1,] 0.5748 0.9069\n",
       "[2,] 0.0991 0.3651\n",
       "[3,] 0.2578 0.1350\n",
       "[4,] 0.8546 0.0392"
      ]
     },
     "metadata": {},
     "output_type": "display_data"
    }
   ],
   "source": [
    "# Each row indicates the location of the unknown sensors (1st, 2nd, 3rd, and 4th).\n",
    "Xs <- matrix(c(0.5748, 0.0991, 0.2578, 0.8546, \n",
    "               0.9069, 0.3651, 0.1350, 0.0392), ncol = 2)\n",
    "Xs"
   ]
  },
  {
   "cell_type": "code",
   "execution_count": 40,
   "metadata": {},
   "outputs": [
    {
     "data": {
      "text/html": [
       "<table>\n",
       "<tbody>\n",
       "\t<tr><td>0.6103</td><td>0.3631</td></tr>\n",
       "\t<tr><td>0.0000</td><td>0.0000</td></tr>\n",
       "\t<tr><td>0.2995</td><td>0.5656</td></tr>\n",
       "\t<tr><td>0.0000</td><td>0.0000</td></tr>\n",
       "</tbody>\n",
       "</table>\n"
      ],
      "text/latex": [
       "\\begin{tabular}{ll}\n",
       "\t 0.6103 & 0.3631\\\\\n",
       "\t 0.0000 & 0.0000\\\\\n",
       "\t 0.2995 & 0.5656\\\\\n",
       "\t 0.0000 & 0.0000\\\\\n",
       "\\end{tabular}\n"
      ],
      "text/markdown": [
       "\n",
       "| 0.6103 | 0.3631 |\n",
       "| 0.0000 | 0.0000 |\n",
       "| 0.2995 | 0.5656 |\n",
       "| 0.0000 | 0.0000 |\n",
       "\n"
      ],
      "text/plain": [
       "     [,1]   [,2]  \n",
       "[1,] 0.6103 0.3631\n",
       "[2,] 0.0000 0.0000\n",
       "[3,] 0.2995 0.5656\n",
       "[4,] 0.0000 0.0000"
      ]
     },
     "metadata": {},
     "output_type": "display_data"
    }
   ],
   "source": [
    "# The observed distances from the fifth sensor (1st column) to the first four sensors\n",
    "# and those from the sixth sensor (2nd column) to the first four sensors.\n",
    "##if data is not observed, the distance value is zero.\n",
    "Yb <- matrix(c(0.6103, 0, 0.2995, 0, \n",
    "               0.3631, 0, 0.5656, 0), ncol = 2)\n",
    "Yb"
   ]
  },
  {
   "cell_type": "code",
   "execution_count": 41,
   "metadata": {},
   "outputs": [
    {
     "data": {
      "text/html": [
       "<table>\n",
       "<tbody>\n",
       "\t<tr><td>0.0000</td><td>0.0000</td><td>0.000 </td><td>0.9266</td></tr>\n",
       "\t<tr><td>0.0000</td><td>0.0000</td><td>0.297 </td><td>0.8524</td></tr>\n",
       "\t<tr><td>0.0000</td><td>0.2970</td><td>0.000 </td><td>0.0000</td></tr>\n",
       "\t<tr><td>0.9266</td><td>0.8524</td><td>0.000 </td><td>0.0000</td></tr>\n",
       "</tbody>\n",
       "</table>\n"
      ],
      "text/latex": [
       "\\begin{tabular}{llll}\n",
       "\t 0.0000 & 0.0000 & 0.000  & 0.9266\\\\\n",
       "\t 0.0000 & 0.0000 & 0.297  & 0.8524\\\\\n",
       "\t 0.0000 & 0.2970 & 0.000  & 0.0000\\\\\n",
       "\t 0.9266 & 0.8524 & 0.000  & 0.0000\\\\\n",
       "\\end{tabular}\n"
      ],
      "text/markdown": [
       "\n",
       "| 0.0000 | 0.0000 | 0.000  | 0.9266 |\n",
       "| 0.0000 | 0.0000 | 0.297  | 0.8524 |\n",
       "| 0.0000 | 0.2970 | 0.000  | 0.0000 |\n",
       "| 0.9266 | 0.8524 | 0.000  | 0.0000 |\n",
       "\n"
      ],
      "text/plain": [
       "     [,1]   [,2]   [,3]  [,4]  \n",
       "[1,] 0.0000 0.0000 0.000 0.9266\n",
       "[2,] 0.0000 0.0000 0.297 0.8524\n",
       "[3,] 0.0000 0.2970 0.000 0.0000\n",
       "[4,] 0.9266 0.8524 0.000 0.0000"
      ]
     },
     "metadata": {},
     "output_type": "display_data"
    }
   ],
   "source": [
    "# Observed distances among the first four sensors.\n",
    "#if data is not observed, the distance value is zero.\n",
    "Ys <- matrix(c(0, 0, 0, 0.9266,\n",
    "               0, 0, 0.2970, 0.8524,\n",
    "               0, 0.2970, 0, 0,\n",
    "               0.9266, 0.8524, 0, 0), ncol = 4)\n",
    "Ys"
   ]
  },
  {
   "cell_type": "code",
   "execution_count": 42,
   "metadata": {},
   "outputs": [],
   "source": [
    "#This norm function calculatess the distance between location a and location b\n",
    "norm2 <- function(loca, locb) {\n",
    "  sqrt(sum((loca - locb)^2))\n",
    "}"
   ]
  },
  {
   "cell_type": "markdown",
   "metadata": {},
   "source": [
    "# Posterior Density function"
   ]
  },
  {
   "cell_type": "markdown",
   "metadata": {},
   "source": [
    "We are creating a **l.target function** which returns the posterior density. \n",
    "\n",
    "Write equation on page no. 18\n",
    "\n",
    "This function consists of four terms: \n",
    "\n",
    "1. The First.term is the 2nd and 3rd term in the likelihood function where i the location of 5th an 6th points (x5,x6) and j is the location first four points (x1,x2,x3,x4)\n",
    "\n",
    "2. The Second.term is the 2nd and 3rd term in the likelihood function where i and j are the location of first 4 points (x1,x2,x3,x4)\n",
    "\n",
    "3. First.obs.term is the first term in the likelihood function, where i ranges from 5th and 6th location points and j ranges from 1-4 location points.\n",
    "\n",
    "4.  Second.obs.term is the first term in the likelihood function, where i and j both ranges from 1-4 location points.\n",
    "\n",
    "*First.obs.term and Second.obs.term is generated using a normal density function, with mean as given in the likelihood equation and standard deviation = 0.2*\n",
    "\n",
    "*The log likelihood is calcualated by adding all the four terms.*\n",
    "\n",
    "*The log posterior is calculated by adding log likelihood and the second term in the posterior equation mentioned in the above (1) equation.*\n",
    "\n"
   ]
  },
  {
   "cell_type": "code",
   "execution_count": 43,
   "metadata": {},
   "outputs": [],
   "source": [
    "######## Target joint posterior density\n",
    "\n",
    "l.target <- function(loc, R = 0.3, sigma = 0.02, Ob, Os, Xb, Xs, Yb, Ys) {\n",
    "\n",
    "  First.term <- NULL\n",
    "  for (i in 1 : 2) {\n",
    "    TEMP <- sapply(1 : 4, function(j) {\n",
    "      exp(-norm2(Xb[i, ], loc[(2 * j -1) : (2 * j)])^2 / 2 / R^2 * Ob[j, i]) *\n",
    "      (1 - exp(-norm2(Xb[i, ], loc[(2 * j -1) : (2 * j)])^2 / 2 / R^2))^(1 - Ob[j, i]) \n",
    "    })\n",
    "    First.term <- c(First.term, TEMP)\n",
    "  }\n",
    "\n",
    "  Second.term <- NULL\n",
    "  for (i in 1 : 3) {\n",
    "    TEMP <- sapply((i + 1) : 4, function(j) {\n",
    "      exp(-norm2(loc[(2 * i -1) : (2 * i)], \n",
    "                 loc[(2 * j -1) : (2 * j)])^2 / 2 / R^2 * Os[i, j]) *\n",
    "      (1 - exp(-norm2(loc[(2 * i -1) : (2 * i)], \n",
    "                      loc[(2 * j -1) : (2 * j)])^2 / 2 / R^2))^(1 - Os[i, j]) \n",
    "    })\n",
    "    Second.term <- c(Second.term, TEMP)\n",
    "  }\n",
    "\n",
    "  First.obs.term <- NULL\n",
    "  for (i in 1 : 2) {\n",
    "    TEMP <- sapply(1 : 4, function(j) {\n",
    "      dnorm(Yb[j, i], mean = norm2(Xb[i, ], loc[(2 * j -1) : (2 * j)]), \n",
    "                      sd = sigma)^Ob[j, i]\n",
    "    })\n",
    "    First.obs.term <- c(First.obs.term, TEMP)\n",
    "  }\n",
    "\n",
    "  Second.obs.term <- NULL\n",
    "  for (i in 1 : 3) {\n",
    "    TEMP <- sapply((i + 1) : 4, function(j) {\n",
    "      dnorm(Ys[i, j], mean = norm2(loc[(2 * i -1) : (2 * i)], \n",
    "                                   loc[(2 * j -1) : (2 * j)]), \n",
    "                      sd = sigma)^Os[i, j]\n",
    "    })\n",
    "    Second.obs.term <- c(Second.obs.term, TEMP)\n",
    "  }\n",
    "\n",
    "  log.lik <- sum(log(c(First.term, Second.term, First.obs.term, Second.obs.term)))\n",
    "  post <- log.lik + sum(dnorm(loc, mean = rep(0, 8), sd = rep(10, 8), log = TRUE))\n",
    "  post\n",
    "\n",
    "}\n"
   ]
  },
  {
   "cell_type": "markdown",
   "metadata": {},
   "source": [
    "# RAM ALGORITHM"
   ]
  },
  {
   "cell_type": "markdown",
   "metadata": {},
   "source": [
    "We write a function that iterates through 1 run of repealling attracting metropolis algorithm.\n",
    "\n",
    "1. The first step is setting an initail value of the parameters **x.c** and an **auzillary variable z.c**.\n",
    "\n",
    "2. **The second step is downhill step. We repeateadly sample two random variables from a normal proposal distribution untill a downward step in density is acheived. We call this a x.p1**.\n",
    "\n",
    "3. Then in the next step we repeatedly sample again from a **normal proposal distribution** untill an **upward step in density** is acheived. We call this as **x.p2**\n",
    "\n",
    "4. Next we again go down in density from the previous point to create an **axuillary variable** and got z.\n",
    "\n",
    "5. Now we accept **x.p2 with a probability** as given in the equation.\n",
    "\n",
    "*As last we return the final parameter x.p2, the auzillary variable z, the no. of downhill proposal (N.d), No. of uphill proposal (N.u), the number of downlhill proposal of auzillary variable (N.z), and average number of target density evaluation at each iteration (N.\\Pi)*\n",
    "\n"
   ]
  },
  {
   "cell_type": "code",
   "execution_count": 44,
   "metadata": {},
   "outputs": [],
   "source": [
    "######## RAM\n",
    "\n",
    "ram.kernel <- function(current.location, current.aux, loc.number, scale) {\n",
    "\n",
    "  eps <- 10^(-308)\n",
    "  accept <- 0\n",
    "  x.c <- current.location \n",
    "  log.x.c.den <- l.target(x.c, 0.3, 0.02, Ob, Os, Xb, Xs, Yb, Ys)\n",
    "  x.c.den <- exp(log.x.c.den)\n",
    "  z.c <- current.aux\n",
    "  log.z.c.den <- l.target(z.c, 0.3, 0.02, Ob, Os, Xb, Xs, Yb, Ys)\n",
    "  z.c.den <- exp(log.z.c.den)\n",
    "\n",
    "  # downhill\n",
    "  x.p1 <- x.c\n",
    "  x.p1[(2 * loc.number - 1) : (2 * loc.number)] <- x.p1[(2 * loc.number - 1) : (2 * loc.number)] + \n",
    "                                                   rnorm(2, 0, scale)\n",
    "  log.x.p1.den <- l.target(x.p1, 0.3, 0.02, Ob, Os, Xb, Xs, Yb, Ys)\n",
    "  x.p1.den <- exp(log.x.p1.den)\n",
    "  N.d <- 1\n",
    "  while (-rexp(1) > log(x.c.den + eps) - log(x.p1.den + eps)) {\n",
    "    x.p1 <- x.c\n",
    "    x.p1[(2 * loc.number - 1) : (2 * loc.number)] <- x.p1[(2 * loc.number - 1) : (2 * loc.number)] + \n",
    "                                                     rnorm(2, 0, scale)\n",
    "    log.x.p1.den <- l.target(x.p1, 0.3, 0.02, Ob, Os, Xb, Xs, Yb, Ys)\n",
    "    x.p1.den <- exp(log.x.p1.den)\n",
    "    N.d <- N.d + 1\n",
    "  }\n",
    "\n",
    "  # uphill\n",
    "  x.p2 <- x.p1\n",
    "  x.p2[(2 * loc.number - 1) : (2 * loc.number)] <- x.p2[(2 * loc.number - 1) : (2 * loc.number)] + \n",
    "                                                   rnorm(2, 0, scale)\n",
    "  log.x.p2.den <- l.target(x.p2, 0.3, 0.02, Ob, Os, Xb, Xs, Yb, Ys)\n",
    "  x.p2.den <- exp(log.x.p2.den)\n",
    "  N.u <- 1\n",
    "  while (-rexp(1) > log(x.p2.den + eps) - log(x.p1.den + eps)) {\n",
    "    x.p2 <- x.p1\n",
    "    x.p2[(2 * loc.number - 1) : (2 * loc.number)] <- x.p2[(2 * loc.number - 1) : (2 * loc.number)] + \n",
    "                                                     rnorm(2, 0, scale)\n",
    "    log.x.p2.den <- l.target(x.p2, 0.3, 0.02, Ob, Os, Xb, Xs, Yb, Ys)\n",
    "    x.p2.den <- exp(log.x.p2.den)\n",
    "    N.u <- N.u + 1\n",
    "  }\n",
    "\n",
    "  # downhill for N.d\n",
    "  N.dz <- 1     # number of total downhill trials for estimate\n",
    "  z <- x.p2\n",
    "  z[(2 * loc.number - 1) : (2 * loc.number)] <- z[(2 * loc.number - 1) : (2 * loc.number)] + \n",
    "                                                rnorm(2, 0, scale)\n",
    "  log.z.den <- l.target(z, 0.3, 0.02, Ob, Os, Xb, Xs, Yb, Ys)\n",
    "  z.den <- exp(log.z.den)\n",
    "  while (-rexp(1) > log(x.p2.den + eps) - log(z.den + eps)) {\n",
    "    z <- x.p2\n",
    "    z[(2 * loc.number - 1) : (2 * loc.number)] <- z[(2 * loc.number - 1) : (2 * loc.number)] + \n",
    "                                                  rnorm(2, 0, scale)\n",
    "    log.z.den <- l.target(z, 0.3, 0.02, Ob, Os, Xb, Xs, Yb, Ys)\n",
    "    z.den <- exp(log.z.den)\n",
    "    N.dz <- N.dz + 1\n",
    "  }\n",
    "\n",
    "  # accept or reject the proposal\n",
    "  min.nu <- min(1, (x.c.den + eps) / (z.c.den + eps))\n",
    "  min.de <- min(1, (x.p2.den + eps) / (z.den + eps))\n",
    "  l.mh <- log.x.p2.den - log.x.c.den + log(min.nu) - log(min.de)\n",
    "\n",
    "  if (l.mh > -rexp(1)) {\n",
    "    x.c <- x.p2\n",
    "    z.c <- z\n",
    "    accept <- 1\n",
    "  }\n",
    "\n",
    "  c(x.c, z.c, N.d, N.u, N.dz, accept)\n",
    "}\n"
   ]
  },
  {
   "cell_type": "markdown",
   "metadata": {},
   "source": [
    "# MHWG - metorpolis hastings with gibbs."
   ]
  },
  {
   "cell_type": "markdown",
   "metadata": {},
   "source": [
    "\n",
    "\n",
    "We define a function that runs the ram alogrithm for (n.sample + n.burn) times.\n",
    "\n",
    "In a single iteration the values of the 8 parameters are updated ssequentiallly 2 at a ime. \n",
    "\n",
    "The function returns the list with the posterior distribution x, N.d, N.u, N.c\n",
    "\n",
    "N.d - number of downhill proposal for the RAM.\n",
    "\n",
    "N.u is  number of uphill proposal for the RAM.\n",
    "\n",
    "N.z is number of downhill proposal for auxillary variable."
   ]
  },
  {
   "cell_type": "code",
   "execution_count": 45,
   "metadata": {},
   "outputs": [],
   "source": [
    "\n",
    "MHwG.RAM <- function(initial.loc, initial.aux, jump.scale, \n",
    "             Ob, Os, Xb, Xs, Yb, Ys, n.sample = 10, n.burn = 10) {\n",
    "\n",
    "  print(Sys.time())\n",
    "  n.total <- n.sample + n.burn\n",
    "  accept <- matrix(0, nrow = n.total, ncol = 4)\n",
    "  out <- matrix(NA, nrow = n.total, ncol = 8)\n",
    "  loc.t <- initial.loc\n",
    "  aux.t <- initial.aux\n",
    "  Nd <- matrix(NA, nrow = n.total, ncol = 4)\n",
    "  Nu <- matrix(NA, nrow = n.total, ncol = 4)\n",
    "  Nz <- matrix(NA, nrow = n.total, ncol = 4)\n",
    "  \n",
    "  for (i in 1 : n.total) {\n",
    "    for (j in 1 : 4) {\n",
    "      TEMP <- ram.kernel(loc.t, aux.t, j, jump.scale[j])\n",
    "      loc.t <- TEMP[1 : 8]\n",
    "      aux.t <- TEMP[9 : 16]\n",
    "      Nd[i, j] <- TEMP[17]\n",
    "      Nu[i, j] <- TEMP[18]\n",
    "      Nz[i, j] <- TEMP[19]\n",
    "      accept[i, j] <- TEMP[20]\n",
    "    }\n",
    "    out[i, ] <- loc.t\n",
    "  }\n",
    "  print(Sys.time())\n",
    "  list(x = out[-c(1 : n.burn), ], \n",
    "       accept = accept[-c(1 : n.burn), ],\n",
    "       N.d = Nd[-c(1 : n.burn), ],\n",
    "       N.u = Nu[-c(1 : n.burn), ],\n",
    "       N.z = Nz[-c(1 : n.burn), ])\n",
    "\n",
    "}\n"
   ]
  },
  {
   "cell_type": "code",
   "execution_count": 46,
   "metadata": {},
   "outputs": [],
   "source": [
    "#j.scale is used to set the standard deviation of normal processal function\n",
    "#We select the same standard deviation of 1.08 for the four unknown locations.\n",
    "\n",
    "j.scale <- rep(1.08, 4)"
   ]
  },
  {
   "cell_type": "markdown",
   "metadata": {},
   "source": [
    "Running the program for 20000 time and removing the first 2000"
   ]
  },
  {
   "cell_type": "markdown",
   "metadata": {},
   "source": [
    "The sample size used in this project is \n",
    "\"sample.size = 200000\" and \"burn.size = 20000\"."
   ]
  },
  {
   "cell_type": "code",
   "execution_count": 47,
   "metadata": {},
   "outputs": [],
   "source": [
    "library(microbenchmark)"
   ]
  },
  {
   "cell_type": "code",
   "execution_count": 48,
   "metadata": {},
   "outputs": [
    {
     "name": "stdout",
     "output_type": "stream",
     "text": [
      "[1] \"2020-04-19 18:09:48 CDT\"\n",
      "[1] \"2020-04-19 20:16:57 CDT\"\n"
     ]
    }
   ],
   "source": [
    "res.ram <- MHwG.RAM(runif(8), runif(8), jump.scale = j.scale, \n",
    "                                Ob, Os, Xb, Xs, Yb, Ys, \n",
    "                                n.sample = 200000, n.burn = 20000)\n"
   ]
  },
  {
   "cell_type": "code",
   "execution_count": null,
   "metadata": {},
   "outputs": [],
   "source": [
    "out <- microbenchmark(res.ram)\n",
    "summary(out)"
   ]
  },
  {
   "cell_type": "markdown",
   "metadata": {},
   "source": [
    "The sample size used in this project is \n",
    "\"sample.size = 20000000\" and \"burn.size = 20000\"."
   ]
  },
  {
   "cell_type": "code",
   "execution_count": null,
   "metadata": {},
   "outputs": [],
   "source": [
    "system.time(res.ram.den <- MHwG.RAM(runif(8), runif(8), jump.scale = j.scale, \n",
    "                                Ob, Os, Xb, Xs, Yb, Ys, \n",
    "                                n.sample = 20000000, n.burn = 20000))\n",
    "# The sample size used in the article is \n",
    "# \"sample.size = 20000000\" and \"burn.size = 20000\"."
   ]
  },
  {
   "cell_type": "code",
   "execution_count": null,
   "metadata": {},
   "outputs": [],
   "source": [
    "out1 <- microbenchmark(res.ram.den)\n",
    "summary(out1)"
   ]
  },
  {
   "cell_type": "code",
   "execution_count": null,
   "metadata": {},
   "outputs": [],
   "source": [
    "\n",
    "######## Summary\n",
    "\n",
    "# Table 4\n",
    "\n",
    "##RAM Summary\n",
    "colMeans(res.ram$accept)\n",
    "colMeans(res.ram$N.d)\n",
    "colMeans(res.ram$N.u)\n",
    "colMeans(res.ram$N.z)\n",
    "\n"
   ]
  },
  {
   "cell_type": "code",
   "execution_count": null,
   "metadata": {},
   "outputs": [],
   "source": [
    "\n",
    "# Figure 5\n",
    "\n",
    "par(mfrow = c(4, 3), font = 2, font.lab = 2, font.axis = 2, cex = 1.2,\n",
    "    mai = c(0.7, 0.9, 0.7, 0.3), mgp = c(2.5, 0.5, 0), las = 1)\n",
    "\n",
    "\n",
    "\n",
    "\n",
    "plot(res.ram$x[, c(1, 2)], pch = 46, xlim = c(-0.2, 0.8), ylim = c(0.3, 1.1),\n",
    "     xlab = \"\", ylab = \"\", main = \"\")\n",
    "title(expression(bold(paste(\"RAM: \", x[1]))))\n",
    "mtext(side = 1, text = expression(bold(x[11])), line = 1.6, cex = 1.2)\n",
    "mtext(side = 2, text = expression(bold(x[12])), line = 1.9, cex = 1.2)\n",
    "abline(v = 0.5748, lty = 2, lwd = 1)\n",
    "abline(h = 0.9069, lty = 2, lwd = 1)\n",
    "\n",
    "\n",
    "\n",
    "plot(res.ram$x[, c(3, 4)], pch = 46, xlim = c(-0.3, 1.3), ylim = c(-0.5, 1.1),\n",
    "     xlab = \"\", ylab = \"\", main = \"\")\n",
    "title(expression(bold(paste(\"RAM: \", x[2]))))\n",
    "mtext(side = 1, text = expression(bold(x[21])), line = 1.6, cex = 1.2)\n",
    "mtext(side = 2, text = expression(bold(x[22])), line = 1.9, cex = 1.2)\n",
    "abline(v = 0.0991, lty = 2, lwd = 1)\n",
    "abline(h = 0.3651, lty = 2, lwd = 1)\n",
    "\n",
    "\n",
    "\n",
    "\n",
    "plot(res.ram$x[, c(5, 6)], pch = 46, xlim = c(0, 1), ylim = c(-0.1, 0.65),\n",
    "     xlab = \"\", ylab = \"\", main = \"\")\n",
    "title(expression(bold(paste(\"RAM: \", x[3]))))\n",
    "mtext(side = 1, text = expression(bold(x[31])), line = 1.6, cex = 1.2)\n",
    "mtext(side = 2, text = expression(bold(x[32])), line = 1.9, cex = 1.2)\n",
    "abline(v = 0.2578, lty = 2, lwd = 1)\n",
    "abline(h = 0.1350, lty = 2, lwd = 1)\n",
    "\n",
    "\n",
    "\n",
    "plot(res.ram$x[, c(7, 8)], pch = 46, xlim = c(-1, 2), ylim = c(-0.5, 2),\n",
    "     xlab = \"\", ylab = \"\", main = \"\")\n",
    "title(expression(bold(paste(\"RAM: \", x[4]))))\n",
    "mtext(side = 1, text = expression(bold(x[41])), line = 1.6, cex = 1.2)\n",
    "mtext(side = 2, text = expression(bold(x[42])), line = 1.9, cex = 1.2)\n",
    "abline(v = 0.8546, lty = 2, lwd = 1)\n",
    "abline(h = 0.0392, lty = 2, lwd = 1)\n",
    "\n"
   ]
  },
  {
   "cell_type": "code",
   "execution_count": null,
   "metadata": {},
   "outputs": [],
   "source": [
    "# Figure 6\n",
    "\n",
    "par(mfrow = c(4, 3), font = 2, font.lab = 2, font.axis = 2, cex = 1.2,\n",
    "    mai = c(0.7, 0.9, 0.7, 0.3), mgp = c(2.5, 0.5, 0), las = 1)\n",
    "\n",
    "\n",
    "\n",
    "hist(res.ram$x[, 1], 50, prob = TRUE, main = \"\", xlab = \"\", ylab = \"\",\n",
    "     ylim = c(0, 11), xlim = c(-0.2, 0.75))\n",
    "title(expression(bold(paste(\"RAM: \", x[11]))))\n",
    "mtext(side = 1, text = expression(bold(x[11])), line = 1.6, cex = 1.2)\n",
    "mtext(side = 2, text = \"Density\", line = 1.7, cex = 1.2, las = 0)\n",
    "index <- which(!is.na(res))\n",
    "lines(density(res.ram.den$x[, 1]), lwd = 1.5)\n",
    "legend(\"top\", c(expression(bold(\"Marginal dist.\")), \n",
    "                    expression(bold(\"True location\"))), lwd = 3, \n",
    "       bty = \"n\", seg.len = 0.9, cex = 0.9, lty = c(1, 3))\n",
    "abline(v = 0.5748, lty = 2, lwd = 2)\n",
    "\n",
    "\n",
    "\n",
    "hist(res.ram$x[, 3], 30, prob = TRUE, main = \"\", xlab = \"\", ylab = \"\",\n",
    "     ylim = c(0, 3), xlim = c(-0.15, 1.3))\n",
    "title(expression(bold(paste(\"RAM: \", x[21]))))\n",
    "mtext(side = 1, text = expression(bold(x[21])), line = 1.6, cex = 1.2)\n",
    "mtext(side = 2, text = \"Density\", line = 1.8, cex = 1.2, las = 0)\n",
    "legend(\"top\", c(expression(bold(\"Marginal dist.\")), \n",
    "                    expression(bold(\"True location\"))), lwd = 3, \n",
    "       bty = \"n\", seg.len = 0.9, cex = 0.9, lty = c(1, 3))\n",
    "lines(density(res.ram.den$x[, 3]), lwd = 1.5)\n",
    "abline(v = 0.1, lty = 2, lwd = 2)\n",
    "\n",
    "\n",
    "\n",
    "hist(res.ram$x[, 5], 30, prob = TRUE, main = \"\", xlab = \"\", ylab = \"\",\n",
    "     ylim = c(0, 15), xlim = c(0.15, 0.85))\n",
    "mtext(side = 1, text = expression(bold(x[31])), line = 1.6, cex = 1.2)\n",
    "mtext(side = 2, text = \"Density\", line = 1.7, cex = 1.2, las = 0)\n",
    "index <- which(!is.na(res))\n",
    "title(expression(bold(paste(\"RAM: \", x[31]))))\n",
    "lines(density(res.ram.den$x[, 5]), lwd = 1.5)\n",
    "legend(\"top\", c(expression(bold(\"Marginal dist.\")), \n",
    "                    expression(bold(\"True location\"))), lwd = 3, \n",
    "       bty = \"n\", seg.len = 0.9, cex = 0.9, lty = c(1, 3))\n",
    "abline(v = 0.2578, lty = 2, lwd = 2)\n",
    "\n",
    "\n",
    "\n",
    "\n",
    "hist(res.ram$x[, 7], 30, prob = TRUE, main = \"\", xlab = \"\", ylab = \"\",\n",
    "     ylim = c(0, 2.3), xlim = c(-1.1, 1.8))\n",
    "mtext(side = 1, text = expression(bold(x[41])), line = 1.6, cex = 1.2)\n",
    "mtext(side = 2, text = \"Density\", line = 1.7, cex = 1.2, las = 0)\n",
    "title(expression(bold(paste(\"RAM: \", x[41]))))\n",
    "lines(density(res.ram.den$x[, 7]), lwd = 1.5)\n",
    "legend(\"topleft\", c(expression(bold(\"Marginal dist.\")), \n",
    "                    expression(bold(\"True location\"))), lwd = 3, \n",
    "       bty = \"n\", seg.len = 0.9, cex = 0.9, lty = c(1, 3))\n",
    "abline(v = 0.85, lty = 2, lwd = 2)\n",
    "\n"
   ]
  },
  {
   "cell_type": "code",
   "execution_count": null,
   "metadata": {},
   "outputs": [],
   "source": []
  },
  {
   "cell_type": "code",
   "execution_count": null,
   "metadata": {},
   "outputs": [],
   "source": []
  },
  {
   "cell_type": "markdown",
   "metadata": {},
   "source": [
    "## Generating multimode density with the BFGS optimization technique and Comparing based on computation speed and other parameters."
   ]
  },
  {
   "cell_type": "code",
   "execution_count": null,
   "metadata": {},
   "outputs": [],
   "source": [
    "X <- cbind(c(0.57,0.10,0.26,0.85,0.50,0.30),c(0.91,0.37,0.14,0.04,0.30,0.70))\n",
    "Y <- matrix(c(0,0,0,0.9266,0.6103,0.3631,\n",
    "              0,0,0.2970,0.8524,0,0,\n",
    "              0,0,0,0,0.2995,0.5656,\n",
    "              0,0,0,0,0,0,\n",
    "              0,0,0,0,0,0,\n",
    "              0,0,0,0,0,0),nrow=6,byrow=TRUE)\n",
    "Y <- Y + t(Y)\n",
    "Y"
   ]
  },
  {
   "cell_type": "code",
   "execution_count": null,
   "metadata": {},
   "outputs": [],
   "source": [
    "## create the W matrix\n",
    "W <- 1*(Y!=0)\n",
    "W\n",
    "Xk <- X[5:6,]"
   ]
  },
  {
   "cell_type": "code",
   "execution_count": null,
   "metadata": {},
   "outputs": [],
   "source": [
    "## this is L(x_1,x_2,x_3,x_4) above Equation 12 in paper\n",
    "## note there is a typo in the paper, first exp should be\n",
    "## to the W_ij power. corrected in this code\n",
    "likelihood <- function(theta,Xk,Y){\n",
    "  thetaX <- rbind(matrix(theta,nrow=length(theta)/2,byrow=TRUE),Xk) # columns filled first, Xk appended\n",
    "  Xd <- as.matrix(dist(thetaX))\n",
    "  temp <- -Xd^2 / (2*0.3^2) # Log prob. observe distance\n",
    "  out <- W*(-(Y - Xd)^2 / (2*0.02^2) + temp) + (1-W)*log(1-exp(temp))\n",
    "  return(sum(out[lower.tri(out)]))\n",
    "}"
   ]
  },
  {
   "cell_type": "code",
   "execution_count": null,
   "metadata": {},
   "outputs": [],
   "source": [
    "## we run the optimizer N times from\n",
    "## random starting locations\n",
    "N <- 500\n",
    "soln <- array(0,dim=c(N,4,2))\n",
    "\n",
    "maxit <- 1000\n",
    "for(ii in 1:N){\n",
    "  init <- runif(8,min=-0.5,max=1.5)\n",
    "  a <- optim(init,likelihood,method=\"BFGS\",Xk=Xk,Y=Y,control=list(maxit=maxit,fnscale=-1))\n",
    "  soln[ii,,] <- matrix(a$par,ncol=2,byrow=TRUE)\n",
    "}"
   ]
  },
  {
   "cell_type": "code",
   "execution_count": null,
   "metadata": {},
   "outputs": [],
   "source": [
    "##Plot the results\n",
    "plot(0,0,xlim=c(-.5,1.5),ylim=c(-.6,1.5),col=0,xlab=\"\",ylab=\"\")\n",
    "pch_est <- c(0,1,2,5)\n",
    "## make colors 1:4 transparent\n",
    "cols <- rgb(t(col2rgb(1:6)),alpha=70,maxColorValue=255)\n",
    "for(jj in 1:4){\n",
    "  points(soln[,jj,1],soln[,jj,2],xlab=\"x_11\",ylab=\"x_12\",col=cols[jj],pch=pch_est[jj])\n",
    "  points(X[jj,1],X[jj,2],col=jj,cex=2,pch=as.character(jj),font=2)\n",
    "}\n",
    "points(0.5,0.3,col=jj,cex=2,pch=as.character(5),font=2)\n",
    "points(0.3,0.7,col=jj,cex=2,pch=as.character(6),font=2)\n",
    "legend(\"topright\",paste0(\"Sensor \",1:6),col=1:6,pch=pch_est)\n"
   ]
  },
  {
   "cell_type": "code",
   "execution_count": null,
   "metadata": {},
   "outputs": [],
   "source": []
  },
  {
   "cell_type": "markdown",
   "metadata": {},
   "source": [
    "# Checking RAM Algorithm for larger Sensor Network with more nodes."
   ]
  },
  {
   "cell_type": "code",
   "execution_count": 16,
   "metadata": {},
   "outputs": [
    {
     "data": {
      "text/html": [
       "<table>\n",
       "<tbody>\n",
       "\t<tr><td>0.61</td><td>0.06</td></tr>\n",
       "\t<tr><td>0.94</td><td>0.64</td></tr>\n",
       "\t<tr><td>0.26</td><td>0.92</td></tr>\n",
       "\t<tr><td>0.38</td><td>0.10</td></tr>\n",
       "\t<tr><td>0.81</td><td>0.30</td></tr>\n",
       "\t<tr><td>0.98</td><td>0.77</td></tr>\n",
       "\t<tr><td>0.96</td><td>0.26</td></tr>\n",
       "\t<tr><td>0.76</td><td>0.52</td></tr>\n",
       "\t<tr><td>0.51</td><td>0.68</td></tr>\n",
       "</tbody>\n",
       "</table>\n"
      ],
      "text/latex": [
       "\\begin{tabular}{ll}\n",
       "\t 0.61 & 0.06\\\\\n",
       "\t 0.94 & 0.64\\\\\n",
       "\t 0.26 & 0.92\\\\\n",
       "\t 0.38 & 0.10\\\\\n",
       "\t 0.81 & 0.30\\\\\n",
       "\t 0.98 & 0.77\\\\\n",
       "\t 0.96 & 0.26\\\\\n",
       "\t 0.76 & 0.52\\\\\n",
       "\t 0.51 & 0.68\\\\\n",
       "\\end{tabular}\n"
      ],
      "text/markdown": [
       "\n",
       "| 0.61 | 0.06 |\n",
       "| 0.94 | 0.64 |\n",
       "| 0.26 | 0.92 |\n",
       "| 0.38 | 0.10 |\n",
       "| 0.81 | 0.30 |\n",
       "| 0.98 | 0.77 |\n",
       "| 0.96 | 0.26 |\n",
       "| 0.76 | 0.52 |\n",
       "| 0.51 | 0.68 |\n",
       "\n"
      ],
      "text/plain": [
       "      [,1] [,2]\n",
       " [1,] 0.61 0.06\n",
       " [2,] 0.94 0.64\n",
       " [3,] 0.26 0.92\n",
       " [4,] 0.38 0.10\n",
       " [5,] 0.81 0.30\n",
       " [6,] 0.98 0.77\n",
       " [7,] 0.96 0.26\n",
       " [8,] 0.76 0.52\n",
       " [9,] 0.51 0.68"
      ]
     },
     "metadata": {},
     "output_type": "display_data"
    }
   ],
   "source": [
    "set.seed(6)\n",
    "X<- matrix(round(runif(18),2),ncol = 2)\n",
    "X"
   ]
  },
  {
   "cell_type": "code",
   "execution_count": 17,
   "metadata": {},
   "outputs": [
    {
     "data": {
      "text/plain": [
       "          1         2         3         4         5         6         7\n",
       "2 0.6673080                                                            \n",
       "3 0.9284934 0.7353911                                                  \n",
       "4 0.2334524 0.7779460 0.8287340                                        \n",
       "5 0.3124100 0.3640055 0.8287943 0.4742362                              \n",
       "6 0.8006248 0.1360147 0.7354590 0.8993887 0.4998000                    \n",
       "7 0.4031129 0.3805260 0.9620811 0.6016644 0.1552417 0.5103920          \n",
       "8 0.4838388 0.2163331 0.6403124 0.5663921 0.2256103 0.3330165 0.3280244\n",
       "9 0.6280127 0.4318565 0.3465545 0.5943904 0.4841487 0.4785394 0.6155485\n",
       "          8\n",
       "2          \n",
       "3          \n",
       "4          \n",
       "5          \n",
       "6          \n",
       "7          \n",
       "8          \n",
       "9 0.2968164"
      ]
     },
     "metadata": {},
     "output_type": "display_data"
    },
    {
     "data": {
      "image/png": "[encoded data removed]",
      "text/plain": [
       "plot without title"
      ]
     },
     "metadata": {},
     "output_type": "display_data"
    }
   ],
   "source": [
    "plot(X[,1],X[,2],pch=as.character(1:9),col=c(rep(1,6),rep(2,3)),xlab=\"\",ylab=\"\")\n",
    "dist(X)"
   ]
  },
  {
   "cell_type": "code",
   "execution_count": 18,
   "metadata": {},
   "outputs": [
    {
     "data": {
      "text/html": [
       "<table>\n",
       "<tbody>\n",
       "\t<tr><td>0</td><td>0</td><td>0</td><td>0</td><td>0</td><td>0</td><td>0</td><td>0</td><td>0</td></tr>\n",
       "\t<tr><td>0</td><td>0</td><td>0</td><td>0</td><td>0</td><td>0</td><td>0</td><td>0</td><td>0</td></tr>\n",
       "\t<tr><td>0</td><td>0</td><td>0</td><td>0</td><td>0</td><td>0</td><td>0</td><td>0</td><td>0</td></tr>\n",
       "\t<tr><td>0</td><td>0</td><td>0</td><td>0</td><td>0</td><td>0</td><td>0</td><td>0</td><td>0</td></tr>\n",
       "\t<tr><td>0</td><td>0</td><td>0</td><td>0</td><td>0</td><td>0</td><td>0</td><td>0</td><td>0</td></tr>\n",
       "\t<tr><td>0</td><td>0</td><td>0</td><td>0</td><td>0</td><td>0</td><td>0</td><td>0</td><td>0</td></tr>\n",
       "\t<tr><td>0</td><td>0</td><td>0</td><td>0</td><td>0</td><td>0</td><td>0</td><td>0</td><td>0</td></tr>\n",
       "\t<tr><td>0</td><td>0</td><td>0</td><td>0</td><td>0</td><td>0</td><td>0</td><td>0</td><td>0</td></tr>\n",
       "\t<tr><td>0</td><td>0</td><td>0</td><td>0</td><td>0</td><td>0</td><td>0</td><td>0</td><td>0</td></tr>\n",
       "</tbody>\n",
       "</table>\n"
      ],
      "text/latex": [
       "\\begin{tabular}{lllllllll}\n",
       "\t 0 & 0 & 0 & 0 & 0 & 0 & 0 & 0 & 0\\\\\n",
       "\t 0 & 0 & 0 & 0 & 0 & 0 & 0 & 0 & 0\\\\\n",
       "\t 0 & 0 & 0 & 0 & 0 & 0 & 0 & 0 & 0\\\\\n",
       "\t 0 & 0 & 0 & 0 & 0 & 0 & 0 & 0 & 0\\\\\n",
       "\t 0 & 0 & 0 & 0 & 0 & 0 & 0 & 0 & 0\\\\\n",
       "\t 0 & 0 & 0 & 0 & 0 & 0 & 0 & 0 & 0\\\\\n",
       "\t 0 & 0 & 0 & 0 & 0 & 0 & 0 & 0 & 0\\\\\n",
       "\t 0 & 0 & 0 & 0 & 0 & 0 & 0 & 0 & 0\\\\\n",
       "\t 0 & 0 & 0 & 0 & 0 & 0 & 0 & 0 & 0\\\\\n",
       "\\end{tabular}\n"
      ],
      "text/markdown": [
       "\n",
       "| 0 | 0 | 0 | 0 | 0 | 0 | 0 | 0 | 0 |\n",
       "| 0 | 0 | 0 | 0 | 0 | 0 | 0 | 0 | 0 |\n",
       "| 0 | 0 | 0 | 0 | 0 | 0 | 0 | 0 | 0 |\n",
       "| 0 | 0 | 0 | 0 | 0 | 0 | 0 | 0 | 0 |\n",
       "| 0 | 0 | 0 | 0 | 0 | 0 | 0 | 0 | 0 |\n",
       "| 0 | 0 | 0 | 0 | 0 | 0 | 0 | 0 | 0 |\n",
       "| 0 | 0 | 0 | 0 | 0 | 0 | 0 | 0 | 0 |\n",
       "| 0 | 0 | 0 | 0 | 0 | 0 | 0 | 0 | 0 |\n",
       "| 0 | 0 | 0 | 0 | 0 | 0 | 0 | 0 | 0 |\n",
       "\n"
      ],
      "text/plain": [
       "      [,1] [,2] [,3] [,4] [,5] [,6] [,7] [,8] [,9]\n",
       " [1,] 0    0    0    0    0    0    0    0    0   \n",
       " [2,] 0    0    0    0    0    0    0    0    0   \n",
       " [3,] 0    0    0    0    0    0    0    0    0   \n",
       " [4,] 0    0    0    0    0    0    0    0    0   \n",
       " [5,] 0    0    0    0    0    0    0    0    0   \n",
       " [6,] 0    0    0    0    0    0    0    0    0   \n",
       " [7,] 0    0    0    0    0    0    0    0    0   \n",
       " [8,] 0    0    0    0    0    0    0    0    0   \n",
       " [9,] 0    0    0    0    0    0    0    0    0   "
      ]
     },
     "metadata": {},
     "output_type": "display_data"
    }
   ],
   "source": [
    "distance<- matrix(0,nrow = 9,ncol = 9)\n",
    "distance"
   ]
  },
  {
   "cell_type": "code",
   "execution_count": 19,
   "metadata": {},
   "outputs": [],
   "source": [
    "norm2 <- function(loca, locb) {\n",
    "  sqrt(sum((loca - locb)^2))\n",
    "}\n",
    "\n",
    "for (i in 1:9){\n",
    "  for (j in 1:9){\n",
    "    distance[i,j]=norm2(X[i,],X[j,])\n",
    "  }\n",
    "}"
   ]
  },
  {
   "cell_type": "code",
   "execution_count": 20,
   "metadata": {},
   "outputs": [
    {
     "data": {
      "text/html": [
       "<table>\n",
       "<tbody>\n",
       "\t<tr><td>0        </td><td>0.6615224</td><td>0.9755775</td><td>0.2460622</td><td>0.2974950</td><td>0.7777182</td><td>0.3709119</td><td>0.4834160</td><td>0.6269919</td></tr>\n",
       "\t<tr><td>0        </td><td>0.0000000</td><td>0.7632596</td><td>0.8102852</td><td>0.3585266</td><td>0.1577072</td><td>0.3737629</td><td>0.2043447</td><td>0.4764003</td></tr>\n",
       "\t<tr><td>0        </td><td>0.0000000</td><td>0.0000000</td><td>0.8248640</td><td>0.8652859</td><td>0.7048791</td><td>0.9661798</td><td>0.6340951</td><td>0.3462770</td></tr>\n",
       "\t<tr><td>0        </td><td>0.0000000</td><td>0.0000000</td><td>0.0000000</td><td>0.4745209</td><td>0.8679138</td><td>0.5971775</td><td>0.5527594</td><td>0.5634425</td></tr>\n",
       "\t<tr><td>0        </td><td>0.0000000</td><td>0.0000000</td><td>0.0000000</td><td>0.0000000</td><td>0.4975181</td><td>0.1370496</td><td>0.2215692</td><td>0.4565510</td></tr>\n",
       "\t<tr><td>0        </td><td>0.0000000</td><td>0.0000000</td><td>0.0000000</td><td>0.0000000</td><td>0.0000000</td><td>0.4942298</td><td>0.3553525</td><td>0.5081369</td></tr>\n",
       "\t<tr><td>0        </td><td>0.0000000</td><td>0.0000000</td><td>0.0000000</td><td>0.0000000</td><td>0.0000000</td><td>0.0000000</td><td>0.3445444</td><td>0.6104501</td></tr>\n",
       "\t<tr><td>0        </td><td>0.0000000</td><td>0.0000000</td><td>0.0000000</td><td>0.0000000</td><td>0.0000000</td><td>0.0000000</td><td>0.0000000</td><td>0.2902908</td></tr>\n",
       "\t<tr><td>0        </td><td>0.0000000</td><td>0.0000000</td><td>0.0000000</td><td>0.0000000</td><td>0.0000000</td><td>0.0000000</td><td>0.0000000</td><td>0.0000000</td></tr>\n",
       "</tbody>\n",
       "</table>\n"
      ],
      "text/latex": [
       "\\begin{tabular}{lllllllll}\n",
       "\t 0         & 0.6615224 & 0.9755775 & 0.2460622 & 0.2974950 & 0.7777182 & 0.3709119 & 0.4834160 & 0.6269919\\\\\n",
       "\t 0         & 0.0000000 & 0.7632596 & 0.8102852 & 0.3585266 & 0.1577072 & 0.3737629 & 0.2043447 & 0.4764003\\\\\n",
       "\t 0         & 0.0000000 & 0.0000000 & 0.8248640 & 0.8652859 & 0.7048791 & 0.9661798 & 0.6340951 & 0.3462770\\\\\n",
       "\t 0         & 0.0000000 & 0.0000000 & 0.0000000 & 0.4745209 & 0.8679138 & 0.5971775 & 0.5527594 & 0.5634425\\\\\n",
       "\t 0         & 0.0000000 & 0.0000000 & 0.0000000 & 0.0000000 & 0.4975181 & 0.1370496 & 0.2215692 & 0.4565510\\\\\n",
       "\t 0         & 0.0000000 & 0.0000000 & 0.0000000 & 0.0000000 & 0.0000000 & 0.4942298 & 0.3553525 & 0.5081369\\\\\n",
       "\t 0         & 0.0000000 & 0.0000000 & 0.0000000 & 0.0000000 & 0.0000000 & 0.0000000 & 0.3445444 & 0.6104501\\\\\n",
       "\t 0         & 0.0000000 & 0.0000000 & 0.0000000 & 0.0000000 & 0.0000000 & 0.0000000 & 0.0000000 & 0.2902908\\\\\n",
       "\t 0         & 0.0000000 & 0.0000000 & 0.0000000 & 0.0000000 & 0.0000000 & 0.0000000 & 0.0000000 & 0.0000000\\\\\n",
       "\\end{tabular}\n"
      ],
      "text/markdown": [
       "\n",
       "| 0         | 0.6615224 | 0.9755775 | 0.2460622 | 0.2974950 | 0.7777182 | 0.3709119 | 0.4834160 | 0.6269919 |\n",
       "| 0         | 0.0000000 | 0.7632596 | 0.8102852 | 0.3585266 | 0.1577072 | 0.3737629 | 0.2043447 | 0.4764003 |\n",
       "| 0         | 0.0000000 | 0.0000000 | 0.8248640 | 0.8652859 | 0.7048791 | 0.9661798 | 0.6340951 | 0.3462770 |\n",
       "| 0         | 0.0000000 | 0.0000000 | 0.0000000 | 0.4745209 | 0.8679138 | 0.5971775 | 0.5527594 | 0.5634425 |\n",
       "| 0         | 0.0000000 | 0.0000000 | 0.0000000 | 0.0000000 | 0.4975181 | 0.1370496 | 0.2215692 | 0.4565510 |\n",
       "| 0         | 0.0000000 | 0.0000000 | 0.0000000 | 0.0000000 | 0.0000000 | 0.4942298 | 0.3553525 | 0.5081369 |\n",
       "| 0         | 0.0000000 | 0.0000000 | 0.0000000 | 0.0000000 | 0.0000000 | 0.0000000 | 0.3445444 | 0.6104501 |\n",
       "| 0         | 0.0000000 | 0.0000000 | 0.0000000 | 0.0000000 | 0.0000000 | 0.0000000 | 0.0000000 | 0.2902908 |\n",
       "| 0         | 0.0000000 | 0.0000000 | 0.0000000 | 0.0000000 | 0.0000000 | 0.0000000 | 0.0000000 | 0.0000000 |\n",
       "\n"
      ],
      "text/plain": [
       "      [,1] [,2]      [,3]      [,4]      [,5]      [,6]      [,7]     \n",
       " [1,] 0    0.6615224 0.9755775 0.2460622 0.2974950 0.7777182 0.3709119\n",
       " [2,] 0    0.0000000 0.7632596 0.8102852 0.3585266 0.1577072 0.3737629\n",
       " [3,] 0    0.0000000 0.0000000 0.8248640 0.8652859 0.7048791 0.9661798\n",
       " [4,] 0    0.0000000 0.0000000 0.0000000 0.4745209 0.8679138 0.5971775\n",
       " [5,] 0    0.0000000 0.0000000 0.0000000 0.0000000 0.4975181 0.1370496\n",
       " [6,] 0    0.0000000 0.0000000 0.0000000 0.0000000 0.0000000 0.4942298\n",
       " [7,] 0    0.0000000 0.0000000 0.0000000 0.0000000 0.0000000 0.0000000\n",
       " [8,] 0    0.0000000 0.0000000 0.0000000 0.0000000 0.0000000 0.0000000\n",
       " [9,] 0    0.0000000 0.0000000 0.0000000 0.0000000 0.0000000 0.0000000\n",
       "      [,8]      [,9]     \n",
       " [1,] 0.4834160 0.6269919\n",
       " [2,] 0.2043447 0.4764003\n",
       " [3,] 0.6340951 0.3462770\n",
       " [4,] 0.5527594 0.5634425\n",
       " [5,] 0.2215692 0.4565510\n",
       " [6,] 0.3553525 0.5081369\n",
       " [7,] 0.3445444 0.6104501\n",
       " [8,] 0.0000000 0.2902908\n",
       " [9,] 0.0000000 0.0000000"
      ]
     },
     "metadata": {},
     "output_type": "display_data"
    }
   ],
   "source": [
    "\n",
    "#Add random error\n",
    "obs_distance = distance + matrix(rnorm(81,0,0.02),nrow = 9)\n",
    "\n",
    "for (i in 1:9){\n",
    "  obs_distance[i:9,i]=0\n",
    "}\n",
    "obs_distance"
   ]
  },
  {
   "cell_type": "code",
   "execution_count": 21,
   "metadata": {},
   "outputs": [
    {
     "data": {
      "text/html": [
       "<table>\n",
       "<tbody>\n",
       "\t<tr><td>0</td><td>0</td><td>0</td><td>0</td><td>1</td><td>1</td><td>0</td><td>0</td><td>0</td></tr>\n",
       "\t<tr><td>0</td><td>0</td><td>1</td><td>1</td><td>0</td><td>0</td><td>0</td><td>1</td><td>0</td></tr>\n",
       "\t<tr><td>1</td><td>0</td><td>1</td><td>0</td><td>1</td><td>0</td><td>0</td><td>0</td><td>0</td></tr>\n",
       "\t<tr><td>1</td><td>1</td><td>0</td><td>0</td><td>0</td><td>1</td><td>1</td><td>0</td><td>1</td></tr>\n",
       "\t<tr><td>0</td><td>0</td><td>1</td><td>1</td><td>1</td><td>1</td><td>1</td><td>1</td><td>1</td></tr>\n",
       "\t<tr><td>1</td><td>1</td><td>0</td><td>0</td><td>1</td><td>0</td><td>0</td><td>0</td><td>0</td></tr>\n",
       "\t<tr><td>1</td><td>0</td><td>0</td><td>0</td><td>1</td><td>1</td><td>1</td><td>1</td><td>1</td></tr>\n",
       "\t<tr><td>1</td><td>1</td><td>0</td><td>1</td><td>1</td><td>0</td><td>0</td><td>0</td><td>1</td></tr>\n",
       "\t<tr><td>1</td><td>1</td><td>0</td><td>1</td><td>1</td><td>0</td><td>0</td><td>1</td><td>0</td></tr>\n",
       "</tbody>\n",
       "</table>\n"
      ],
      "text/latex": [
       "\\begin{tabular}{lllllllll}\n",
       "\t 0 & 0 & 0 & 0 & 1 & 1 & 0 & 0 & 0\\\\\n",
       "\t 0 & 0 & 1 & 1 & 0 & 0 & 0 & 1 & 0\\\\\n",
       "\t 1 & 0 & 1 & 0 & 1 & 0 & 0 & 0 & 0\\\\\n",
       "\t 1 & 1 & 0 & 0 & 0 & 1 & 1 & 0 & 1\\\\\n",
       "\t 0 & 0 & 1 & 1 & 1 & 1 & 1 & 1 & 1\\\\\n",
       "\t 1 & 1 & 0 & 0 & 1 & 0 & 0 & 0 & 0\\\\\n",
       "\t 1 & 0 & 0 & 0 & 1 & 1 & 1 & 1 & 1\\\\\n",
       "\t 1 & 1 & 0 & 1 & 1 & 0 & 0 & 0 & 1\\\\\n",
       "\t 1 & 1 & 0 & 1 & 1 & 0 & 0 & 1 & 0\\\\\n",
       "\\end{tabular}\n"
      ],
      "text/markdown": [
       "\n",
       "| 0 | 0 | 0 | 0 | 1 | 1 | 0 | 0 | 0 |\n",
       "| 0 | 0 | 1 | 1 | 0 | 0 | 0 | 1 | 0 |\n",
       "| 1 | 0 | 1 | 0 | 1 | 0 | 0 | 0 | 0 |\n",
       "| 1 | 1 | 0 | 0 | 0 | 1 | 1 | 0 | 1 |\n",
       "| 0 | 0 | 1 | 1 | 1 | 1 | 1 | 1 | 1 |\n",
       "| 1 | 1 | 0 | 0 | 1 | 0 | 0 | 0 | 0 |\n",
       "| 1 | 0 | 0 | 0 | 1 | 1 | 1 | 1 | 1 |\n",
       "| 1 | 1 | 0 | 1 | 1 | 0 | 0 | 0 | 1 |\n",
       "| 1 | 1 | 0 | 1 | 1 | 0 | 0 | 1 | 0 |\n",
       "\n"
      ],
      "text/plain": [
       "      [,1] [,2] [,3] [,4] [,5] [,6] [,7] [,8] [,9]\n",
       " [1,] 0    0    0    0    1    1    0    0    0   \n",
       " [2,] 0    0    1    1    0    0    0    1    0   \n",
       " [3,] 1    0    1    0    1    0    0    0    0   \n",
       " [4,] 1    1    0    0    0    1    1    0    1   \n",
       " [5,] 0    0    1    1    1    1    1    1    1   \n",
       " [6,] 1    1    0    0    1    0    0    0    0   \n",
       " [7,] 1    0    0    0    1    1    1    1    1   \n",
       " [8,] 1    1    0    1    1    0    0    0    1   \n",
       " [9,] 1    1    0    1    1    0    0    1    0   "
      ]
     },
     "metadata": {},
     "output_type": "display_data"
    }
   ],
   "source": [
    "#Now we randomly remove some distance by randomly selecting 0 and 1\n",
    "set.seed(1)\n",
    "O <- matrix(rbinom(81,1,0.5),nrow=9)\n",
    "O\n"
   ]
  },
  {
   "cell_type": "code",
   "execution_count": 22,
   "metadata": {},
   "outputs": [
    {
     "data": {
      "text/html": [
       "<table>\n",
       "<tbody>\n",
       "\t<tr><td>0</td><td>0</td><td>0</td><td>0</td><td>1</td><td>1</td><td>0</td><td>0</td><td>0</td></tr>\n",
       "\t<tr><td>0</td><td>0</td><td>1</td><td>1</td><td>0</td><td>0</td><td>0</td><td>1</td><td>0</td></tr>\n",
       "\t<tr><td>0</td><td>0</td><td>0</td><td>0</td><td>1</td><td>0</td><td>0</td><td>0</td><td>0</td></tr>\n",
       "\t<tr><td>0</td><td>0</td><td>0</td><td>0</td><td>0</td><td>1</td><td>1</td><td>0</td><td>1</td></tr>\n",
       "\t<tr><td>0</td><td>0</td><td>0</td><td>0</td><td>0</td><td>1</td><td>1</td><td>1</td><td>1</td></tr>\n",
       "\t<tr><td>0</td><td>0</td><td>0</td><td>0</td><td>0</td><td>0</td><td>0</td><td>0</td><td>0</td></tr>\n",
       "\t<tr><td>0</td><td>0</td><td>0</td><td>0</td><td>0</td><td>0</td><td>0</td><td>1</td><td>1</td></tr>\n",
       "\t<tr><td>0</td><td>0</td><td>0</td><td>0</td><td>0</td><td>0</td><td>0</td><td>0</td><td>1</td></tr>\n",
       "\t<tr><td>0</td><td>0</td><td>0</td><td>0</td><td>0</td><td>0</td><td>0</td><td>0</td><td>0</td></tr>\n",
       "</tbody>\n",
       "</table>\n"
      ],
      "text/latex": [
       "\\begin{tabular}{lllllllll}\n",
       "\t 0 & 0 & 0 & 0 & 1 & 1 & 0 & 0 & 0\\\\\n",
       "\t 0 & 0 & 1 & 1 & 0 & 0 & 0 & 1 & 0\\\\\n",
       "\t 0 & 0 & 0 & 0 & 1 & 0 & 0 & 0 & 0\\\\\n",
       "\t 0 & 0 & 0 & 0 & 0 & 1 & 1 & 0 & 1\\\\\n",
       "\t 0 & 0 & 0 & 0 & 0 & 1 & 1 & 1 & 1\\\\\n",
       "\t 0 & 0 & 0 & 0 & 0 & 0 & 0 & 0 & 0\\\\\n",
       "\t 0 & 0 & 0 & 0 & 0 & 0 & 0 & 1 & 1\\\\\n",
       "\t 0 & 0 & 0 & 0 & 0 & 0 & 0 & 0 & 1\\\\\n",
       "\t 0 & 0 & 0 & 0 & 0 & 0 & 0 & 0 & 0\\\\\n",
       "\\end{tabular}\n"
      ],
      "text/markdown": [
       "\n",
       "| 0 | 0 | 0 | 0 | 1 | 1 | 0 | 0 | 0 |\n",
       "| 0 | 0 | 1 | 1 | 0 | 0 | 0 | 1 | 0 |\n",
       "| 0 | 0 | 0 | 0 | 1 | 0 | 0 | 0 | 0 |\n",
       "| 0 | 0 | 0 | 0 | 0 | 1 | 1 | 0 | 1 |\n",
       "| 0 | 0 | 0 | 0 | 0 | 1 | 1 | 1 | 1 |\n",
       "| 0 | 0 | 0 | 0 | 0 | 0 | 0 | 0 | 0 |\n",
       "| 0 | 0 | 0 | 0 | 0 | 0 | 0 | 1 | 1 |\n",
       "| 0 | 0 | 0 | 0 | 0 | 0 | 0 | 0 | 1 |\n",
       "| 0 | 0 | 0 | 0 | 0 | 0 | 0 | 0 | 0 |\n",
       "\n"
      ],
      "text/plain": [
       "      [,1] [,2] [,3] [,4] [,5] [,6] [,7] [,8] [,9]\n",
       " [1,] 0    0    0    0    1    1    0    0    0   \n",
       " [2,] 0    0    1    1    0    0    0    1    0   \n",
       " [3,] 0    0    0    0    1    0    0    0    0   \n",
       " [4,] 0    0    0    0    0    1    1    0    1   \n",
       " [5,] 0    0    0    0    0    1    1    1    1   \n",
       " [6,] 0    0    0    0    0    0    0    0    0   \n",
       " [7,] 0    0    0    0    0    0    0    1    1   \n",
       " [8,] 0    0    0    0    0    0    0    0    1   \n",
       " [9,] 0    0    0    0    0    0    0    0    0   "
      ]
     },
     "metadata": {},
     "output_type": "display_data"
    }
   ],
   "source": [
    "for (i in 1:9){\n",
    "  O[i:9,i]=0\n",
    "}\n",
    "O\n"
   ]
  },
  {
   "cell_type": "code",
   "execution_count": 23,
   "metadata": {},
   "outputs": [
    {
     "data": {
      "text/html": [
       "<table>\n",
       "<tbody>\n",
       "\t<tr><td>0</td><td>0</td><td>0</td><td>0</td><td>1</td><td>1</td><td>0</td><td>0</td><td>0</td></tr>\n",
       "\t<tr><td>0</td><td>0</td><td>1</td><td>1</td><td>0</td><td>0</td><td>0</td><td>1</td><td>0</td></tr>\n",
       "\t<tr><td>0</td><td>1</td><td>0</td><td>0</td><td>1</td><td>0</td><td>0</td><td>0</td><td>0</td></tr>\n",
       "\t<tr><td>0</td><td>1</td><td>0</td><td>0</td><td>0</td><td>1</td><td>1</td><td>0</td><td>1</td></tr>\n",
       "\t<tr><td>1</td><td>0</td><td>1</td><td>0</td><td>0</td><td>1</td><td>1</td><td>1</td><td>1</td></tr>\n",
       "\t<tr><td>1</td><td>0</td><td>0</td><td>1</td><td>1</td><td>0</td><td>0</td><td>0</td><td>0</td></tr>\n",
       "\t<tr><td>0</td><td>0</td><td>0</td><td>1</td><td>1</td><td>0</td><td>0</td><td>1</td><td>1</td></tr>\n",
       "\t<tr><td>0</td><td>1</td><td>0</td><td>0</td><td>1</td><td>0</td><td>1</td><td>0</td><td>1</td></tr>\n",
       "\t<tr><td>0</td><td>0</td><td>0</td><td>1</td><td>1</td><td>0</td><td>1</td><td>1</td><td>0</td></tr>\n",
       "</tbody>\n",
       "</table>\n"
      ],
      "text/latex": [
       "\\begin{tabular}{lllllllll}\n",
       "\t 0 & 0 & 0 & 0 & 1 & 1 & 0 & 0 & 0\\\\\n",
       "\t 0 & 0 & 1 & 1 & 0 & 0 & 0 & 1 & 0\\\\\n",
       "\t 0 & 1 & 0 & 0 & 1 & 0 & 0 & 0 & 0\\\\\n",
       "\t 0 & 1 & 0 & 0 & 0 & 1 & 1 & 0 & 1\\\\\n",
       "\t 1 & 0 & 1 & 0 & 0 & 1 & 1 & 1 & 1\\\\\n",
       "\t 1 & 0 & 0 & 1 & 1 & 0 & 0 & 0 & 0\\\\\n",
       "\t 0 & 0 & 0 & 1 & 1 & 0 & 0 & 1 & 1\\\\\n",
       "\t 0 & 1 & 0 & 0 & 1 & 0 & 1 & 0 & 1\\\\\n",
       "\t 0 & 0 & 0 & 1 & 1 & 0 & 1 & 1 & 0\\\\\n",
       "\\end{tabular}\n"
      ],
      "text/markdown": [
       "\n",
       "| 0 | 0 | 0 | 0 | 1 | 1 | 0 | 0 | 0 |\n",
       "| 0 | 0 | 1 | 1 | 0 | 0 | 0 | 1 | 0 |\n",
       "| 0 | 1 | 0 | 0 | 1 | 0 | 0 | 0 | 0 |\n",
       "| 0 | 1 | 0 | 0 | 0 | 1 | 1 | 0 | 1 |\n",
       "| 1 | 0 | 1 | 0 | 0 | 1 | 1 | 1 | 1 |\n",
       "| 1 | 0 | 0 | 1 | 1 | 0 | 0 | 0 | 0 |\n",
       "| 0 | 0 | 0 | 1 | 1 | 0 | 0 | 1 | 1 |\n",
       "| 0 | 1 | 0 | 0 | 1 | 0 | 1 | 0 | 1 |\n",
       "| 0 | 0 | 0 | 1 | 1 | 0 | 1 | 1 | 0 |\n",
       "\n"
      ],
      "text/plain": [
       "      [,1] [,2] [,3] [,4] [,5] [,6] [,7] [,8] [,9]\n",
       " [1,] 0    0    0    0    1    1    0    0    0   \n",
       " [2,] 0    0    1    1    0    0    0    1    0   \n",
       " [3,] 0    1    0    0    1    0    0    0    0   \n",
       " [4,] 0    1    0    0    0    1    1    0    1   \n",
       " [5,] 1    0    1    0    0    1    1    1    1   \n",
       " [6,] 1    0    0    1    1    0    0    0    0   \n",
       " [7,] 0    0    0    1    1    0    0    1    1   \n",
       " [8,] 0    1    0    0    1    0    1    0    1   \n",
       " [9,] 0    0    0    1    1    0    1    1    0   "
      ]
     },
     "metadata": {},
     "output_type": "display_data"
    }
   ],
   "source": [
    "O <- O + t(O)\n",
    "O\n"
   ]
  },
  {
   "cell_type": "code",
   "execution_count": 25,
   "metadata": {},
   "outputs": [
    {
     "data": {
      "text/html": [
       "<table>\n",
       "<tbody>\n",
       "\t<tr><td>0        </td><td>0.6615224</td><td>0.9755775</td><td>0.2460622</td><td>0.2974950</td><td>0.7777182</td><td>0.3709119</td><td>0.4834160</td><td>0.6269919</td></tr>\n",
       "\t<tr><td>0        </td><td>0.0000000</td><td>0.7632596</td><td>0.8102852</td><td>0.3585266</td><td>0.1577072</td><td>0.3737629</td><td>0.2043447</td><td>0.4764003</td></tr>\n",
       "\t<tr><td>0        </td><td>0.0000000</td><td>0.0000000</td><td>0.8248640</td><td>0.8652859</td><td>0.7048791</td><td>0.9661798</td><td>0.6340951</td><td>0.3462770</td></tr>\n",
       "\t<tr><td>0        </td><td>0.0000000</td><td>0.0000000</td><td>0.0000000</td><td>0.4745209</td><td>0.8679138</td><td>0.5971775</td><td>0.5527594</td><td>0.5634425</td></tr>\n",
       "\t<tr><td>0        </td><td>0.0000000</td><td>0.0000000</td><td>0.0000000</td><td>0.0000000</td><td>0.4975181</td><td>0.1370496</td><td>0.2215692</td><td>0.4565510</td></tr>\n",
       "\t<tr><td>0        </td><td>0.0000000</td><td>0.0000000</td><td>0.0000000</td><td>0.0000000</td><td>0.0000000</td><td>0.4942298</td><td>0.3553525</td><td>0.5081369</td></tr>\n",
       "\t<tr><td>0        </td><td>0.0000000</td><td>0.0000000</td><td>0.0000000</td><td>0.0000000</td><td>0.0000000</td><td>0.0000000</td><td>0.3445444</td><td>0.6104501</td></tr>\n",
       "\t<tr><td>0        </td><td>0.0000000</td><td>0.0000000</td><td>0.0000000</td><td>0.0000000</td><td>0.0000000</td><td>0.0000000</td><td>0.0000000</td><td>0.2902908</td></tr>\n",
       "\t<tr><td>0        </td><td>0.0000000</td><td>0.0000000</td><td>0.0000000</td><td>0.0000000</td><td>0.0000000</td><td>0.0000000</td><td>0.0000000</td><td>0.0000000</td></tr>\n",
       "</tbody>\n",
       "</table>\n"
      ],
      "text/latex": [
       "\\begin{tabular}{lllllllll}\n",
       "\t 0         & 0.6615224 & 0.9755775 & 0.2460622 & 0.2974950 & 0.7777182 & 0.3709119 & 0.4834160 & 0.6269919\\\\\n",
       "\t 0         & 0.0000000 & 0.7632596 & 0.8102852 & 0.3585266 & 0.1577072 & 0.3737629 & 0.2043447 & 0.4764003\\\\\n",
       "\t 0         & 0.0000000 & 0.0000000 & 0.8248640 & 0.8652859 & 0.7048791 & 0.9661798 & 0.6340951 & 0.3462770\\\\\n",
       "\t 0         & 0.0000000 & 0.0000000 & 0.0000000 & 0.4745209 & 0.8679138 & 0.5971775 & 0.5527594 & 0.5634425\\\\\n",
       "\t 0         & 0.0000000 & 0.0000000 & 0.0000000 & 0.0000000 & 0.4975181 & 0.1370496 & 0.2215692 & 0.4565510\\\\\n",
       "\t 0         & 0.0000000 & 0.0000000 & 0.0000000 & 0.0000000 & 0.0000000 & 0.4942298 & 0.3553525 & 0.5081369\\\\\n",
       "\t 0         & 0.0000000 & 0.0000000 & 0.0000000 & 0.0000000 & 0.0000000 & 0.0000000 & 0.3445444 & 0.6104501\\\\\n",
       "\t 0         & 0.0000000 & 0.0000000 & 0.0000000 & 0.0000000 & 0.0000000 & 0.0000000 & 0.0000000 & 0.2902908\\\\\n",
       "\t 0         & 0.0000000 & 0.0000000 & 0.0000000 & 0.0000000 & 0.0000000 & 0.0000000 & 0.0000000 & 0.0000000\\\\\n",
       "\\end{tabular}\n"
      ],
      "text/markdown": [
       "\n",
       "| 0         | 0.6615224 | 0.9755775 | 0.2460622 | 0.2974950 | 0.7777182 | 0.3709119 | 0.4834160 | 0.6269919 |\n",
       "| 0         | 0.0000000 | 0.7632596 | 0.8102852 | 0.3585266 | 0.1577072 | 0.3737629 | 0.2043447 | 0.4764003 |\n",
       "| 0         | 0.0000000 | 0.0000000 | 0.8248640 | 0.8652859 | 0.7048791 | 0.9661798 | 0.6340951 | 0.3462770 |\n",
       "| 0         | 0.0000000 | 0.0000000 | 0.0000000 | 0.4745209 | 0.8679138 | 0.5971775 | 0.5527594 | 0.5634425 |\n",
       "| 0         | 0.0000000 | 0.0000000 | 0.0000000 | 0.0000000 | 0.4975181 | 0.1370496 | 0.2215692 | 0.4565510 |\n",
       "| 0         | 0.0000000 | 0.0000000 | 0.0000000 | 0.0000000 | 0.0000000 | 0.4942298 | 0.3553525 | 0.5081369 |\n",
       "| 0         | 0.0000000 | 0.0000000 | 0.0000000 | 0.0000000 | 0.0000000 | 0.0000000 | 0.3445444 | 0.6104501 |\n",
       "| 0         | 0.0000000 | 0.0000000 | 0.0000000 | 0.0000000 | 0.0000000 | 0.0000000 | 0.0000000 | 0.2902908 |\n",
       "| 0         | 0.0000000 | 0.0000000 | 0.0000000 | 0.0000000 | 0.0000000 | 0.0000000 | 0.0000000 | 0.0000000 |\n",
       "\n"
      ],
      "text/plain": [
       "      [,1] [,2]      [,3]      [,4]      [,5]      [,6]      [,7]     \n",
       " [1,] 0    0.6615224 0.9755775 0.2460622 0.2974950 0.7777182 0.3709119\n",
       " [2,] 0    0.0000000 0.7632596 0.8102852 0.3585266 0.1577072 0.3737629\n",
       " [3,] 0    0.0000000 0.0000000 0.8248640 0.8652859 0.7048791 0.9661798\n",
       " [4,] 0    0.0000000 0.0000000 0.0000000 0.4745209 0.8679138 0.5971775\n",
       " [5,] 0    0.0000000 0.0000000 0.0000000 0.0000000 0.4975181 0.1370496\n",
       " [6,] 0    0.0000000 0.0000000 0.0000000 0.0000000 0.0000000 0.4942298\n",
       " [7,] 0    0.0000000 0.0000000 0.0000000 0.0000000 0.0000000 0.0000000\n",
       " [8,] 0    0.0000000 0.0000000 0.0000000 0.0000000 0.0000000 0.0000000\n",
       " [9,] 0    0.0000000 0.0000000 0.0000000 0.0000000 0.0000000 0.0000000\n",
       "      [,8]      [,9]     \n",
       " [1,] 0.4834160 0.6269919\n",
       " [2,] 0.2043447 0.4764003\n",
       " [3,] 0.6340951 0.3462770\n",
       " [4,] 0.5527594 0.5634425\n",
       " [5,] 0.2215692 0.4565510\n",
       " [6,] 0.3553525 0.5081369\n",
       " [7,] 0.3445444 0.6104501\n",
       " [8,] 0.0000000 0.2902908\n",
       " [9,] 0.0000000 0.0000000"
      ]
     },
     "metadata": {},
     "output_type": "display_data"
    }
   ],
   "source": [
    "obs_distance"
   ]
  },
  {
   "cell_type": "code",
   "execution_count": 26,
   "metadata": {},
   "outputs": [
    {
     "data": {
      "text/html": [
       "<table>\n",
       "<tbody>\n",
       "\t<tr><td>0.0000000</td><td>0.0000000</td><td>0.0000000</td><td>0.0000000</td><td>0.2974950</td><td>0.7777182</td><td>0.0000000</td><td>0.0000000</td><td>0.0000000</td></tr>\n",
       "\t<tr><td>0.0000000</td><td>0.0000000</td><td>0.7632596</td><td>0.8102852</td><td>0.0000000</td><td>0.0000000</td><td>0.0000000</td><td>0.2043447</td><td>0.0000000</td></tr>\n",
       "\t<tr><td>0.0000000</td><td>0.7632596</td><td>0.0000000</td><td>0.0000000</td><td>0.8652859</td><td>0.0000000</td><td>0.0000000</td><td>0.0000000</td><td>0.0000000</td></tr>\n",
       "\t<tr><td>0.0000000</td><td>0.8102852</td><td>0.0000000</td><td>0.0000000</td><td>0.0000000</td><td>0.8679138</td><td>0.5971775</td><td>0.0000000</td><td>0.5634425</td></tr>\n",
       "\t<tr><td>0.2974950</td><td>0.0000000</td><td>0.8652859</td><td>0.0000000</td><td>0.0000000</td><td>0.4975181</td><td>0.1370496</td><td>0.2215692</td><td>0.4565510</td></tr>\n",
       "\t<tr><td>0.7777182</td><td>0.0000000</td><td>0.0000000</td><td>0.8679138</td><td>0.4975181</td><td>0.0000000</td><td>0.0000000</td><td>0.0000000</td><td>0.0000000</td></tr>\n",
       "\t<tr><td>0.0000000</td><td>0.0000000</td><td>0.0000000</td><td>0.5971775</td><td>0.1370496</td><td>0.0000000</td><td>0.0000000</td><td>0.3445444</td><td>0.6104501</td></tr>\n",
       "\t<tr><td>0.0000000</td><td>0.2043447</td><td>0.0000000</td><td>0.0000000</td><td>0.2215692</td><td>0.0000000</td><td>0.3445444</td><td>0.0000000</td><td>0.2902908</td></tr>\n",
       "\t<tr><td>0.0000000</td><td>0.0000000</td><td>0.0000000</td><td>0.5634425</td><td>0.4565510</td><td>0.0000000</td><td>0.6104501</td><td>0.2902908</td><td>0.0000000</td></tr>\n",
       "</tbody>\n",
       "</table>\n"
      ],
      "text/latex": [
       "\\begin{tabular}{lllllllll}\n",
       "\t 0.0000000 & 0.0000000 & 0.0000000 & 0.0000000 & 0.2974950 & 0.7777182 & 0.0000000 & 0.0000000 & 0.0000000\\\\\n",
       "\t 0.0000000 & 0.0000000 & 0.7632596 & 0.8102852 & 0.0000000 & 0.0000000 & 0.0000000 & 0.2043447 & 0.0000000\\\\\n",
       "\t 0.0000000 & 0.7632596 & 0.0000000 & 0.0000000 & 0.8652859 & 0.0000000 & 0.0000000 & 0.0000000 & 0.0000000\\\\\n",
       "\t 0.0000000 & 0.8102852 & 0.0000000 & 0.0000000 & 0.0000000 & 0.8679138 & 0.5971775 & 0.0000000 & 0.5634425\\\\\n",
       "\t 0.2974950 & 0.0000000 & 0.8652859 & 0.0000000 & 0.0000000 & 0.4975181 & 0.1370496 & 0.2215692 & 0.4565510\\\\\n",
       "\t 0.7777182 & 0.0000000 & 0.0000000 & 0.8679138 & 0.4975181 & 0.0000000 & 0.0000000 & 0.0000000 & 0.0000000\\\\\n",
       "\t 0.0000000 & 0.0000000 & 0.0000000 & 0.5971775 & 0.1370496 & 0.0000000 & 0.0000000 & 0.3445444 & 0.6104501\\\\\n",
       "\t 0.0000000 & 0.2043447 & 0.0000000 & 0.0000000 & 0.2215692 & 0.0000000 & 0.3445444 & 0.0000000 & 0.2902908\\\\\n",
       "\t 0.0000000 & 0.0000000 & 0.0000000 & 0.5634425 & 0.4565510 & 0.0000000 & 0.6104501 & 0.2902908 & 0.0000000\\\\\n",
       "\\end{tabular}\n"
      ],
      "text/markdown": [
       "\n",
       "| 0.0000000 | 0.0000000 | 0.0000000 | 0.0000000 | 0.2974950 | 0.7777182 | 0.0000000 | 0.0000000 | 0.0000000 |\n",
       "| 0.0000000 | 0.0000000 | 0.7632596 | 0.8102852 | 0.0000000 | 0.0000000 | 0.0000000 | 0.2043447 | 0.0000000 |\n",
       "| 0.0000000 | 0.7632596 | 0.0000000 | 0.0000000 | 0.8652859 | 0.0000000 | 0.0000000 | 0.0000000 | 0.0000000 |\n",
       "| 0.0000000 | 0.8102852 | 0.0000000 | 0.0000000 | 0.0000000 | 0.8679138 | 0.5971775 | 0.0000000 | 0.5634425 |\n",
       "| 0.2974950 | 0.0000000 | 0.8652859 | 0.0000000 | 0.0000000 | 0.4975181 | 0.1370496 | 0.2215692 | 0.4565510 |\n",
       "| 0.7777182 | 0.0000000 | 0.0000000 | 0.8679138 | 0.4975181 | 0.0000000 | 0.0000000 | 0.0000000 | 0.0000000 |\n",
       "| 0.0000000 | 0.0000000 | 0.0000000 | 0.5971775 | 0.1370496 | 0.0000000 | 0.0000000 | 0.3445444 | 0.6104501 |\n",
       "| 0.0000000 | 0.2043447 | 0.0000000 | 0.0000000 | 0.2215692 | 0.0000000 | 0.3445444 | 0.0000000 | 0.2902908 |\n",
       "| 0.0000000 | 0.0000000 | 0.0000000 | 0.5634425 | 0.4565510 | 0.0000000 | 0.6104501 | 0.2902908 | 0.0000000 |\n",
       "\n"
      ],
      "text/plain": [
       "      [,1]      [,2]      [,3]      [,4]      [,5]      [,6]      [,7]     \n",
       " [1,] 0.0000000 0.0000000 0.0000000 0.0000000 0.2974950 0.7777182 0.0000000\n",
       " [2,] 0.0000000 0.0000000 0.7632596 0.8102852 0.0000000 0.0000000 0.0000000\n",
       " [3,] 0.0000000 0.7632596 0.0000000 0.0000000 0.8652859 0.0000000 0.0000000\n",
       " [4,] 0.0000000 0.8102852 0.0000000 0.0000000 0.0000000 0.8679138 0.5971775\n",
       " [5,] 0.2974950 0.0000000 0.8652859 0.0000000 0.0000000 0.4975181 0.1370496\n",
       " [6,] 0.7777182 0.0000000 0.0000000 0.8679138 0.4975181 0.0000000 0.0000000\n",
       " [7,] 0.0000000 0.0000000 0.0000000 0.5971775 0.1370496 0.0000000 0.0000000\n",
       " [8,] 0.0000000 0.2043447 0.0000000 0.0000000 0.2215692 0.0000000 0.3445444\n",
       " [9,] 0.0000000 0.0000000 0.0000000 0.5634425 0.4565510 0.0000000 0.6104501\n",
       "      [,8]      [,9]     \n",
       " [1,] 0.0000000 0.0000000\n",
       " [2,] 0.2043447 0.0000000\n",
       " [3,] 0.0000000 0.0000000\n",
       " [4,] 0.0000000 0.5634425\n",
       " [5,] 0.2215692 0.4565510\n",
       " [6,] 0.0000000 0.0000000\n",
       " [7,] 0.3445444 0.6104501\n",
       " [8,] 0.0000000 0.2902908\n",
       " [9,] 0.2902908 0.0000000"
      ]
     },
     "metadata": {},
     "output_type": "display_data"
    }
   ],
   "source": [
    "\n",
    "Y = O*obs_distance\n",
    "Y <- Y + t(Y)\n",
    "Y"
   ]
  },
  {
   "cell_type": "code",
   "execution_count": 27,
   "metadata": {},
   "outputs": [
    {
     "data": {
      "text/html": [
       "<table>\n",
       "<tbody>\n",
       "\t<tr><td>0</td><td>0</td><td>0</td></tr>\n",
       "\t<tr><td>0</td><td>1</td><td>0</td></tr>\n",
       "\t<tr><td>0</td><td>0</td><td>0</td></tr>\n",
       "\t<tr><td>1</td><td>0</td><td>1</td></tr>\n",
       "\t<tr><td>1</td><td>1</td><td>1</td></tr>\n",
       "\t<tr><td>0</td><td>0</td><td>0</td></tr>\n",
       "</tbody>\n",
       "</table>\n"
      ],
      "text/latex": [
       "\\begin{tabular}{lll}\n",
       "\t 0 & 0 & 0\\\\\n",
       "\t 0 & 1 & 0\\\\\n",
       "\t 0 & 0 & 0\\\\\n",
       "\t 1 & 0 & 1\\\\\n",
       "\t 1 & 1 & 1\\\\\n",
       "\t 0 & 0 & 0\\\\\n",
       "\\end{tabular}\n"
      ],
      "text/markdown": [
       "\n",
       "| 0 | 0 | 0 |\n",
       "| 0 | 1 | 0 |\n",
       "| 0 | 0 | 0 |\n",
       "| 1 | 0 | 1 |\n",
       "| 1 | 1 | 1 |\n",
       "| 0 | 0 | 0 |\n",
       "\n"
      ],
      "text/plain": [
       "     [,1] [,2] [,3]\n",
       "[1,] 0    0    0   \n",
       "[2,] 0    1    0   \n",
       "[3,] 0    0    0   \n",
       "[4,] 1    0    1   \n",
       "[5,] 1    1    1   \n",
       "[6,] 0    0    0   "
      ]
     },
     "metadata": {},
     "output_type": "display_data"
    }
   ],
   "source": [
    "\n",
    "##Distance (binary) of 7th,8th and 9th to 1-6th \n",
    "Ob<-O[1:6,7:9]\n",
    "Ob\n"
   ]
  },
  {
   "cell_type": "code",
   "execution_count": 28,
   "metadata": {},
   "outputs": [
    {
     "data": {
      "text/html": [
       "<table>\n",
       "<tbody>\n",
       "\t<tr><td>0</td><td>0</td><td>0</td><td>0</td><td>1</td><td>1</td></tr>\n",
       "\t<tr><td>0</td><td>0</td><td>1</td><td>1</td><td>0</td><td>0</td></tr>\n",
       "\t<tr><td>0</td><td>1</td><td>0</td><td>0</td><td>1</td><td>0</td></tr>\n",
       "\t<tr><td>0</td><td>1</td><td>0</td><td>0</td><td>0</td><td>1</td></tr>\n",
       "\t<tr><td>1</td><td>0</td><td>1</td><td>0</td><td>0</td><td>1</td></tr>\n",
       "\t<tr><td>1</td><td>0</td><td>0</td><td>1</td><td>1</td><td>0</td></tr>\n",
       "</tbody>\n",
       "</table>\n"
      ],
      "text/latex": [
       "\\begin{tabular}{llllll}\n",
       "\t 0 & 0 & 0 & 0 & 1 & 1\\\\\n",
       "\t 0 & 0 & 1 & 1 & 0 & 0\\\\\n",
       "\t 0 & 1 & 0 & 0 & 1 & 0\\\\\n",
       "\t 0 & 1 & 0 & 0 & 0 & 1\\\\\n",
       "\t 1 & 0 & 1 & 0 & 0 & 1\\\\\n",
       "\t 1 & 0 & 0 & 1 & 1 & 0\\\\\n",
       "\\end{tabular}\n"
      ],
      "text/markdown": [
       "\n",
       "| 0 | 0 | 0 | 0 | 1 | 1 |\n",
       "| 0 | 0 | 1 | 1 | 0 | 0 |\n",
       "| 0 | 1 | 0 | 0 | 1 | 0 |\n",
       "| 0 | 1 | 0 | 0 | 0 | 1 |\n",
       "| 1 | 0 | 1 | 0 | 0 | 1 |\n",
       "| 1 | 0 | 0 | 1 | 1 | 0 |\n",
       "\n"
      ],
      "text/plain": [
       "     [,1] [,2] [,3] [,4] [,5] [,6]\n",
       "[1,] 0    0    0    0    1    1   \n",
       "[2,] 0    0    1    1    0    0   \n",
       "[3,] 0    1    0    0    1    0   \n",
       "[4,] 0    1    0    0    0    1   \n",
       "[5,] 1    0    1    0    0    1   \n",
       "[6,] 1    0    0    1    1    0   "
      ]
     },
     "metadata": {},
     "output_type": "display_data"
    }
   ],
   "source": [
    "\n",
    "Os<-O[1:6,1:6]\n",
    "Os"
   ]
  },
  {
   "cell_type": "code",
   "execution_count": 29,
   "metadata": {},
   "outputs": [
    {
     "data": {
      "text/html": [
       "<table>\n",
       "<tbody>\n",
       "\t<tr><td>0.96</td><td>0.26</td></tr>\n",
       "\t<tr><td>0.76</td><td>0.52</td></tr>\n",
       "\t<tr><td>0.51</td><td>0.68</td></tr>\n",
       "</tbody>\n",
       "</table>\n"
      ],
      "text/latex": [
       "\\begin{tabular}{ll}\n",
       "\t 0.96 & 0.26\\\\\n",
       "\t 0.76 & 0.52\\\\\n",
       "\t 0.51 & 0.68\\\\\n",
       "\\end{tabular}\n"
      ],
      "text/markdown": [
       "\n",
       "| 0.96 | 0.26 |\n",
       "| 0.76 | 0.52 |\n",
       "| 0.51 | 0.68 |\n",
       "\n"
      ],
      "text/plain": [
       "     [,1] [,2]\n",
       "[1,] 0.96 0.26\n",
       "[2,] 0.76 0.52\n",
       "[3,] 0.51 0.68"
      ]
     },
     "metadata": {},
     "output_type": "display_data"
    }
   ],
   "source": [
    "#The true locations of 7th-9th sensor\n",
    "Xb <- X[7:9,]\n",
    "Xb"
   ]
  },
  {
   "cell_type": "code",
   "execution_count": 30,
   "metadata": {},
   "outputs": [
    {
     "data": {
      "text/html": [
       "<table>\n",
       "<tbody>\n",
       "\t<tr><td>0.61</td><td>0.06</td></tr>\n",
       "\t<tr><td>0.94</td><td>0.64</td></tr>\n",
       "\t<tr><td>0.26</td><td>0.92</td></tr>\n",
       "\t<tr><td>0.38</td><td>0.10</td></tr>\n",
       "\t<tr><td>0.81</td><td>0.30</td></tr>\n",
       "\t<tr><td>0.98</td><td>0.77</td></tr>\n",
       "</tbody>\n",
       "</table>\n"
      ],
      "text/latex": [
       "\\begin{tabular}{ll}\n",
       "\t 0.61 & 0.06\\\\\n",
       "\t 0.94 & 0.64\\\\\n",
       "\t 0.26 & 0.92\\\\\n",
       "\t 0.38 & 0.10\\\\\n",
       "\t 0.81 & 0.30\\\\\n",
       "\t 0.98 & 0.77\\\\\n",
       "\\end{tabular}\n"
      ],
      "text/markdown": [
       "\n",
       "| 0.61 | 0.06 |\n",
       "| 0.94 | 0.64 |\n",
       "| 0.26 | 0.92 |\n",
       "| 0.38 | 0.10 |\n",
       "| 0.81 | 0.30 |\n",
       "| 0.98 | 0.77 |\n",
       "\n"
      ],
      "text/plain": [
       "     [,1] [,2]\n",
       "[1,] 0.61 0.06\n",
       "[2,] 0.94 0.64\n",
       "[3,] 0.26 0.92\n",
       "[4,] 0.38 0.10\n",
       "[5,] 0.81 0.30\n",
       "[6,] 0.98 0.77"
      ]
     },
     "metadata": {},
     "output_type": "display_data"
    }
   ],
   "source": [
    "\n",
    "#The location of unknown sensors (1-6)\n",
    "Xs <- X[1:6,]\n",
    "Xs"
   ]
  },
  {
   "cell_type": "code",
   "execution_count": 31,
   "metadata": {},
   "outputs": [
    {
     "data": {
      "text/html": [
       "<table>\n",
       "<tbody>\n",
       "\t<tr><td>0.0000000</td><td>0.0000000</td><td>0.0000000</td></tr>\n",
       "\t<tr><td>0.0000000</td><td>0.2043447</td><td>0.0000000</td></tr>\n",
       "\t<tr><td>0.0000000</td><td>0.0000000</td><td>0.0000000</td></tr>\n",
       "\t<tr><td>0.5971775</td><td>0.0000000</td><td>0.5634425</td></tr>\n",
       "\t<tr><td>0.1370496</td><td>0.2215692</td><td>0.4565510</td></tr>\n",
       "\t<tr><td>0.0000000</td><td>0.0000000</td><td>0.0000000</td></tr>\n",
       "</tbody>\n",
       "</table>\n"
      ],
      "text/latex": [
       "\\begin{tabular}{lll}\n",
       "\t 0.0000000 & 0.0000000 & 0.0000000\\\\\n",
       "\t 0.0000000 & 0.2043447 & 0.0000000\\\\\n",
       "\t 0.0000000 & 0.0000000 & 0.0000000\\\\\n",
       "\t 0.5971775 & 0.0000000 & 0.5634425\\\\\n",
       "\t 0.1370496 & 0.2215692 & 0.4565510\\\\\n",
       "\t 0.0000000 & 0.0000000 & 0.0000000\\\\\n",
       "\\end{tabular}\n"
      ],
      "text/markdown": [
       "\n",
       "| 0.0000000 | 0.0000000 | 0.0000000 |\n",
       "| 0.0000000 | 0.2043447 | 0.0000000 |\n",
       "| 0.0000000 | 0.0000000 | 0.0000000 |\n",
       "| 0.5971775 | 0.0000000 | 0.5634425 |\n",
       "| 0.1370496 | 0.2215692 | 0.4565510 |\n",
       "| 0.0000000 | 0.0000000 | 0.0000000 |\n",
       "\n"
      ],
      "text/plain": [
       "     [,1]      [,2]      [,3]     \n",
       "[1,] 0.0000000 0.0000000 0.0000000\n",
       "[2,] 0.0000000 0.2043447 0.0000000\n",
       "[3,] 0.0000000 0.0000000 0.0000000\n",
       "[4,] 0.5971775 0.0000000 0.5634425\n",
       "[5,] 0.1370496 0.2215692 0.4565510\n",
       "[6,] 0.0000000 0.0000000 0.0000000"
      ]
     },
     "metadata": {},
     "output_type": "display_data"
    },
    {
     "data": {
      "text/html": [
       "<table>\n",
       "<tbody>\n",
       "\t<tr><td>0.0000000</td><td>0.0000000</td><td>0.0000000</td><td>0.0000000</td><td>0.2974950</td><td>0.7777182</td></tr>\n",
       "\t<tr><td>0.0000000</td><td>0.0000000</td><td>0.7632596</td><td>0.8102852</td><td>0.0000000</td><td>0.0000000</td></tr>\n",
       "\t<tr><td>0.0000000</td><td>0.7632596</td><td>0.0000000</td><td>0.0000000</td><td>0.8652859</td><td>0.0000000</td></tr>\n",
       "\t<tr><td>0.0000000</td><td>0.8102852</td><td>0.0000000</td><td>0.0000000</td><td>0.0000000</td><td>0.8679138</td></tr>\n",
       "\t<tr><td>0.2974950</td><td>0.0000000</td><td>0.8652859</td><td>0.0000000</td><td>0.0000000</td><td>0.4975181</td></tr>\n",
       "\t<tr><td>0.7777182</td><td>0.0000000</td><td>0.0000000</td><td>0.8679138</td><td>0.4975181</td><td>0.0000000</td></tr>\n",
       "</tbody>\n",
       "</table>\n"
      ],
      "text/latex": [
       "\\begin{tabular}{llllll}\n",
       "\t 0.0000000 & 0.0000000 & 0.0000000 & 0.0000000 & 0.2974950 & 0.7777182\\\\\n",
       "\t 0.0000000 & 0.0000000 & 0.7632596 & 0.8102852 & 0.0000000 & 0.0000000\\\\\n",
       "\t 0.0000000 & 0.7632596 & 0.0000000 & 0.0000000 & 0.8652859 & 0.0000000\\\\\n",
       "\t 0.0000000 & 0.8102852 & 0.0000000 & 0.0000000 & 0.0000000 & 0.8679138\\\\\n",
       "\t 0.2974950 & 0.0000000 & 0.8652859 & 0.0000000 & 0.0000000 & 0.4975181\\\\\n",
       "\t 0.7777182 & 0.0000000 & 0.0000000 & 0.8679138 & 0.4975181 & 0.0000000\\\\\n",
       "\\end{tabular}\n"
      ],
      "text/markdown": [
       "\n",
       "| 0.0000000 | 0.0000000 | 0.0000000 | 0.0000000 | 0.2974950 | 0.7777182 |\n",
       "| 0.0000000 | 0.0000000 | 0.7632596 | 0.8102852 | 0.0000000 | 0.0000000 |\n",
       "| 0.0000000 | 0.7632596 | 0.0000000 | 0.0000000 | 0.8652859 | 0.0000000 |\n",
       "| 0.0000000 | 0.8102852 | 0.0000000 | 0.0000000 | 0.0000000 | 0.8679138 |\n",
       "| 0.2974950 | 0.0000000 | 0.8652859 | 0.0000000 | 0.0000000 | 0.4975181 |\n",
       "| 0.7777182 | 0.0000000 | 0.0000000 | 0.8679138 | 0.4975181 | 0.0000000 |\n",
       "\n"
      ],
      "text/plain": [
       "     [,1]      [,2]      [,3]      [,4]      [,5]      [,6]     \n",
       "[1,] 0.0000000 0.0000000 0.0000000 0.0000000 0.2974950 0.7777182\n",
       "[2,] 0.0000000 0.0000000 0.7632596 0.8102852 0.0000000 0.0000000\n",
       "[3,] 0.0000000 0.7632596 0.0000000 0.0000000 0.8652859 0.0000000\n",
       "[4,] 0.0000000 0.8102852 0.0000000 0.0000000 0.0000000 0.8679138\n",
       "[5,] 0.2974950 0.0000000 0.8652859 0.0000000 0.0000000 0.4975181\n",
       "[6,] 0.7777182 0.0000000 0.0000000 0.8679138 0.4975181 0.0000000"
      ]
     },
     "metadata": {},
     "output_type": "display_data"
    }
   ],
   "source": [
    "\n",
    "#Distance of 7,8,9 to 1st 6 points and within 1st 6 points\n",
    "Yb <- Y[1:6,7:9]\n",
    "Yb\n",
    "Ys <- Y[1:6,1:6]\n",
    "Ys"
   ]
  },
  {
   "cell_type": "code",
   "execution_count": 32,
   "metadata": {},
   "outputs": [],
   "source": [
    "######## Target joint posterior density\n",
    "l.target <- function(loc, R = 0.3, sigma = 0.02, Ob, Os, Xb, Xs, Yb, Ys) {\n",
    "  \n",
    "  First.term <- NULL\n",
    "  for (i in 1 : 3) {\n",
    "    TEMP <- sapply(1 : 6, function(j) {\n",
    "      exp(-norm2(Xb[i, ], loc[(2 * j -1) : (2 * j)])^2 / 2 / R^2 * Ob[j, i]) *\n",
    "        (1 - exp(-norm2(Xb[i, ], loc[(2 * j -1) : (2 * j)])^2 / 2 / R^2))^(1 - Ob[j, i]) \n",
    "    })\n",
    "    First.term <- c(First.term, TEMP)\n",
    "  }  \n",
    "  \n",
    "  Second.term <- NULL\n",
    "  for (i in 1 : 5) {\n",
    "    TEMP <- sapply((i + 1) : 6, function(j) {\n",
    "      exp(-norm2(loc[(2 * i -1) : (2 * i)], \n",
    "                 loc[(2 * j -1) : (2 * j)])^2 / 2 / R^2 * Os[i, j]) *\n",
    "        (1 - exp(-norm2(loc[(2 * i -1) : (2 * i)], \n",
    "                        loc[(2 * j -1) : (2 * j)])^2 / 2 / R^2))^(1 - Os[i, j])  \n",
    "    })\n",
    "    Second.term <- c(Second.term, TEMP)\n",
    "  }\n",
    "  \n",
    "  First.obs.term <- NULL\n",
    "  for (i in 1 : 3) {\n",
    "    TEMP <- sapply(1 : 6, function(j) {\n",
    "      dnorm(Yb[j, i], mean = norm2(Xb[i, ], loc[(2 * j -1) : (2 * j)]), \n",
    "            sd = sigma)^Ob[j, i]\n",
    "    })\n",
    "    First.obs.term <- c(First.obs.term, TEMP)\n",
    "  }\n",
    "  \n",
    "  Second.obs.term <- NULL\n",
    "  for (i in 1 : 5) {\n",
    "    TEMP <- sapply((i + 1) : 6, function(j) {\n",
    "      dnorm(Ys[i, j], mean = norm2(loc[(2 * i -1) : (2 * i)], \n",
    "                                   loc[(2 * j -1) : (2 * j)]), \n",
    "            sd = sigma)^Os[i, j]\n",
    "    })\n",
    "    Second.obs.term <- c(Second.obs.term, TEMP)\n",
    "  }  \n",
    "  \n",
    "  log.lik <- sum(log(c(First.term, Second.term, First.obs.term, Second.obs.term)))\n",
    "  post <- log.lik + sum(dnorm(loc, mean = rep(0, 12), sd = rep(10, 12), log = TRUE))\n",
    "  post\n",
    "  \n",
    "}"
   ]
  },
  {
   "cell_type": "code",
   "execution_count": 33,
   "metadata": {},
   "outputs": [],
   "source": [
    "\n",
    "######## RAM\n",
    "\n",
    "ram.kernel <- function(current.location, current.aux, loc.number, scale) {\n",
    "  \n",
    "  eps <- 10^(-308)\n",
    "  accept <- 0 \n",
    "  x.c <- current.location \n",
    "  log.x.c.den <- l.target(x.c, 0.3, 0.02, Ob, Os, Xb, Xs, Yb, Ys)\n",
    "  x.c.den <- exp(log.x.c.den)\n",
    "  z.c <- current.aux\n",
    "  log.z.c.den <- l.target(z.c, 0.3, 0.02, Ob, Os, Xb, Xs, Yb, Ys)\n",
    "  z.c.den <- exp(log.z.c.den)\n",
    "  \n",
    "  # downhill \n",
    "  x.p1 <- x.c\n",
    "  x.p1[(2 * loc.number - 1) : (2 * loc.number)] <- x.p1[(2 * loc.number - 1) : (2 * loc.number)] + \n",
    "    rnorm(2, 0, scale)\n",
    "  log.x.p1.den <- l.target(x.p1, 0.3, 0.02, Ob, Os, Xb, Xs, Yb, Ys)\n",
    "  x.p1.den <- exp(log.x.p1.den)\n",
    "  N.d <- 1\n",
    "  while (-rexp(1) > log(x.c.den + eps) - log(x.p1.den + eps)) {\n",
    "    x.p1 <- x.c \n",
    "    x.p1[(2 * loc.number - 1) : (2 * loc.number)] <- x.p1[(2 * loc.number - 1) : (2 * loc.number)] + \n",
    "      rnorm(2, 0, scale)\n",
    "    log.x.p1.den <- l.target(x.p1, 0.3, 0.02, Ob, Os, Xb, Xs, Yb, Ys)\n",
    "    x.p1.den <- exp(log.x.p1.den)\n",
    "    N.d <- N.d + 1\n",
    "  }\n",
    "  \n",
    "  # uphill\n",
    "  x.p2 <- x.p1\n",
    "  x.p2[(2 * loc.number - 1) : (2 * loc.number)] <- x.p2[(2 * loc.number - 1) : (2 * loc.number)] + \n",
    "    rnorm(2, 0, scale)\n",
    "  log.x.p2.den <- l.target(x.p2, 0.3, 0.02, Ob, Os, Xb, Xs, Yb, Ys)\n",
    "  x.p2.den <- exp(log.x.p2.den)\n",
    "  N.u <- 1\n",
    "  while (-rexp(1) > log(x.p2.den + eps) - log(x.p1.den + eps)) {\n",
    "    x.p2 <- x.p1\n",
    "    x.p2[(2 * loc.number - 1) : (2 * loc.number)] <- x.p2[(2 * loc.number - 1) : (2 * loc.number)] + \n",
    "      rnorm(2, 0, scale)\n",
    "    log.x.p2.den <- l.target(x.p2, 0.3, 0.02, Ob, Os, Xb, Xs, Yb, Ys)\n",
    "    x.p2.den <- exp(log.x.p2.den)\n",
    "    N.u <- N.u + 1\n",
    "  }\n",
    "  \n",
    "  # downhill for N.d\n",
    "  N.dz <- 1     # number of total downhill trials for estimate\n",
    "  z <- x.p2\n",
    "  z[(2 * loc.number - 1) : (2 * loc.number)] <- z[(2 * loc.number - 1) : (2 * loc.number)] + \n",
    "    rnorm(2, 0, scale)\n",
    "  log.z.den <- l.target(z, 0.3, 0.02, Ob, Os, Xb, Xs, Yb, Ys)\n",
    "  z.den <- exp(log.z.den)\n",
    "  while (-rexp(1) > log(x.p2.den + eps) - log(z.den + eps)) {\n",
    "    z <- x.p2\n",
    "    z[(2 * loc.number - 1) : (2 * loc.number)] <- z[(2 * loc.number - 1) : (2 * loc.number)] + \n",
    "      rnorm(2, 0, scale)\n",
    "    log.z.den <- l.target(z, 0.3, 0.02, Ob, Os, Xb, Xs, Yb, Ys)\n",
    "    z.den <- exp(log.z.den)\n",
    "    N.dz <- N.dz + 1\n",
    "  }\n",
    "  \n",
    "  # accept or reject the proposal\n",
    "  min.nu <- min(1, (x.c.den + eps) / (z.c.den + eps))\n",
    "  min.de <- min(1, (x.p2.den + eps) / (z.den + eps))\n",
    "  l.mh <- log.x.p2.den - log.x.c.den + log(min.nu) - log(min.de)\n",
    "  \n",
    "  if (l.mh > -rexp(1)) {\n",
    "    x.c <- x.p2\n",
    "    z.c <- z\n",
    "    accept <- 1\n",
    "  }\n",
    "  \n",
    "  c(x.c, z.c, N.d, N.u, N.dz, accept)\n",
    "}\n",
    "\n",
    "\n",
    "\n"
   ]
  },
  {
   "cell_type": "code",
   "execution_count": null,
   "metadata": {},
   "outputs": [],
   "source": [
    "MHwG.RAM <- function(initial.loc, initial.aux, jump.scale, \n",
    "                     Ob, Os, Xb, Xs, Yb, Ys, n.sample = 10, n.burn = 10) {\n",
    "  \n",
    "  print(Sys.time())\n",
    "  n.total <- n.sample + n.burn\n",
    "  accept <- matrix(0, nrow = n.total, ncol = 6)\n",
    "  out <- matrix(NA, nrow = n.total, ncol = 12)\n",
    "  loc.t <- initial.loc\n",
    "  aux.t <- initial.aux\n",
    "  Nd <- matrix(NA, nrow = n.total, ncol = 6)\n",
    "  Nu <- matrix(NA, nrow = n.total, ncol = 6)\n",
    "  Nz <- matrix(NA, nrow = n.total, ncol = 6)\n",
    "  \n",
    "  for (i in 1 : n.total) {\n",
    "    for (j in 1 : 6) {\n",
    "      TEMP <- ram.kernel(loc.t, aux.t, j, jump.scale[j])\n",
    "      loc.t <- TEMP[1 : 12]\n",
    "      aux.t <- TEMP[13 : 24]\n",
    "      Nd[i, j] <- TEMP[25]\n",
    "      Nu[i, j] <- TEMP[26]\n",
    "      Nz[i, j] <- TEMP[27]\n",
    "      accept[i, j] <- TEMP[28]\n",
    "    }\n",
    "    out[i, ] <- loc.t\n",
    "  }\n",
    "  print(Sys.time())\n",
    "  list(x = out[-c(1 : n.burn), ], \n",
    "       accept = accept[-c(1 : n.burn), ],\n",
    "       N.d = Nd[-c(1 : n.burn), ],\n",
    "       N.u = Nu[-c(1 : n.burn), ],\n",
    "       N.z = Nz[-c(1 : n.burn), ])\n",
    "  \n",
    "}\n",
    "\n",
    "j.scale <- rep(1.08, 6)\n",
    "\n"
   ]
  },
  {
   "cell_type": "code",
   "execution_count": null,
   "metadata": {},
   "outputs": [],
   "source": [
    "res.ram <- MHwG.RAM(runif(12), runif(12), jump.scale = j.scale, \n",
    "                    Ob, Os, Xb, Xs, Yb, Ys, \n",
    "                    n.sample = 200000, n.burn = 20000)\n",
    "res.ram\n"
   ]
  },
  {
   "cell_type": "code",
   "execution_count": null,
   "metadata": {},
   "outputs": [],
   "source": [
    "plot(res.ram$x[, c(1, 2)], xlim = c(-0.2, 1), ylim = c(0, 1.1),\n",
    "     xlab = \"\", ylab = \"\", main = \"\")\n",
    "title(expression(bold(paste(\"RAM: \", x[1]))))\n",
    "mtext(side = 1, text = expression(bold(x[11])), line = 1.6, cex = 1.2)\n",
    "mtext(side = 2, text = expression(bold(x[12])), line = 1.9, cex = 1.2)\n",
    "abline(v = Xs[1,1], lty = 2, lwd = 1)\n",
    "abline(h = Xs[1,2], lty = 2, lwd = 1)"
   ]
  }
 ],
 "metadata": {
  "kernelspec": {
   "display_name": "R",
   "language": "R",
   "name": "ir"
  },
  "language_info": {
   "codemirror_mode": "r",
   "file_extension": ".r",
   "mimetype": "text/x-r-source",
   "name": "R",
   "pygments_lexer": "r",
   "version": "3.6.1"
  }
 },
 "nbformat": 4,
 "nbformat_minor": 2
}
